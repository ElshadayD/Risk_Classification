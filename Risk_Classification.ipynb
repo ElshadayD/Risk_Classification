{
  "cells": [
    {
      "cell_type": "markdown",
      "metadata": {
        "id": "mpw_Mf9cTL-y"
      },
      "source": [
        "* This notebook explores a multiclass classification task using Decision Tree, SVM and Feedforward neural network on the Ministry of Revenue Risk Management dataset, which consists of 29 attributes and over 4,000 records."
      ]
    },
    {
      "cell_type": "markdown",
      "metadata": {
        "id": "guM-4Re-7pq9"
      },
      "source": [
        "## Importing essential libraries"
      ]
    },
    {
      "cell_type": "code",
      "execution_count": null,
      "metadata": {
        "id": "pJHmdZ9P7pq9"
      },
      "outputs": [],
      "source": [
        "import numpy as np\n",
        "import pandas as pd\n",
        "import matplotlib.pyplot as plt\n",
        "import seaborn as sns\n",
        "from sklearn.model_selection import train_test_split, GridSearchCV,RandomizedSearchCV\n",
        "from sklearn.tree import DecisionTreeClassifier, plot_tree\n",
        "from imblearn.over_sampling import SMOTE\n",
        "from sklearn.metrics import  make_scorer, accuracy_score, precision_score, recall_score, f1_score, confusion_matrix\n",
        "from sklearn.svm import SVC"
      ]
    },
    {
      "cell_type": "markdown",
      "metadata": {
        "id": "SDDNaBFt7pq-"
      },
      "source": [
        "## Loading the data"
      ]
    },
    {
      "cell_type": "code",
      "execution_count": null,
      "metadata": {
        "id": "8TFzIRz37pq-"
      },
      "outputs": [],
      "source": [
        "df= pd.read_csv('/content/Risk-Data - Sheet1.csv')"
      ]
    },
    {
      "cell_type": "code",
      "execution_count": null,
      "metadata": {
        "colab": {
          "base_uri": "https://localhost:8080/"
        },
        "id": "mzeCeXQT7pq-",
        "outputId": "437fe00a-696c-4214-e5d6-b98e14334a20"
      },
      "outputs": [
        {
          "data": {
            "text/plain": [
              "(4787, 29)"
            ]
          },
          "execution_count": 227,
          "metadata": {},
          "output_type": "execute_result"
        }
      ],
      "source": [
        "df.shape"
      ]
    },
    {
      "cell_type": "code",
      "execution_count": null,
      "metadata": {
        "colab": {
          "base_uri": "https://localhost:8080/",
          "height": 255
        },
        "id": "eJCU0_lC7pq-",
        "outputId": "9ad02b67-51e7-4be9-bde8-ef2495f30078"
      },
      "outputs": [
        {
          "data": {
            "text/html": [
              "<div>\n",
              "<style scoped>\n",
              "    .dataframe tbody tr th:only-of-type {\n",
              "        vertical-align: middle;\n",
              "    }\n",
              "\n",
              "    .dataframe tbody tr th {\n",
              "        vertical-align: top;\n",
              "    }\n",
              "\n",
              "    .dataframe thead th {\n",
              "        text-align: right;\n",
              "    }\n",
              "</style>\n",
              "<table border=\"1\" class=\"dataframe\">\n",
              "  <thead>\n",
              "    <tr style=\"text-align: right;\">\n",
              "      <th></th>\n",
              "      <th>_c1_loss_declaration</th>\n",
              "      <th>_c2_capital_to_turnover</th>\n",
              "      <th>_c3_expense_to_turnover</th>\n",
              "      <th>_c4_turnover_to_vat_sales</th>\n",
              "      <th>_c5_audit_opinion</th>\n",
              "      <th>_c6_profit_margin</th>\n",
              "      <th>_c7_debt_to_turnover</th>\n",
              "      <th>_c8_inventory_to_turnover</th>\n",
              "      <th>_c9_exempt_sales_to_turnover</th>\n",
              "      <th>_c10_unusually_high_expenses</th>\n",
              "      <th>...</th>\n",
              "      <th>_c24_vat_import_purchase</th>\n",
              "      <th>_c25_vat_customs_export</th>\n",
              "      <th>_c27_liability_to_asset</th>\n",
              "      <th>_c28_asset_to_turnover</th>\n",
              "      <th>_c29_foreign_company</th>\n",
              "      <th>_c30_intelligence</th>\n",
              "      <th>last_audit_year</th>\n",
              "      <th>final_score</th>\n",
              "      <th>risk_score</th>\n",
              "      <th>risk_level</th>\n",
              "    </tr>\n",
              "  </thead>\n",
              "  <tbody>\n",
              "    <tr>\n",
              "      <th>0</th>\n",
              "      <td>1</td>\n",
              "      <td>-3</td>\n",
              "      <td>3</td>\n",
              "      <td>3</td>\n",
              "      <td>0</td>\n",
              "      <td>1</td>\n",
              "      <td>3</td>\n",
              "      <td>0</td>\n",
              "      <td>3</td>\n",
              "      <td>3</td>\n",
              "      <td>...</td>\n",
              "      <td>3</td>\n",
              "      <td>3</td>\n",
              "      <td>2</td>\n",
              "      <td>3</td>\n",
              "      <td>-3</td>\n",
              "      <td>-3</td>\n",
              "      <td>3.0</td>\n",
              "      <td>33</td>\n",
              "      <td>4</td>\n",
              "      <td>High</td>\n",
              "    </tr>\n",
              "    <tr>\n",
              "      <th>1</th>\n",
              "      <td>3</td>\n",
              "      <td>3</td>\n",
              "      <td>3</td>\n",
              "      <td>-1</td>\n",
              "      <td>-2</td>\n",
              "      <td>-1</td>\n",
              "      <td>3</td>\n",
              "      <td>0</td>\n",
              "      <td>0</td>\n",
              "      <td>3</td>\n",
              "      <td>...</td>\n",
              "      <td>0</td>\n",
              "      <td>0</td>\n",
              "      <td>2</td>\n",
              "      <td>3</td>\n",
              "      <td>-3</td>\n",
              "      <td>3</td>\n",
              "      <td>2.0</td>\n",
              "      <td>24</td>\n",
              "      <td>3</td>\n",
              "      <td>High</td>\n",
              "    </tr>\n",
              "    <tr>\n",
              "      <th>2</th>\n",
              "      <td>3</td>\n",
              "      <td>-3</td>\n",
              "      <td>3</td>\n",
              "      <td>-1</td>\n",
              "      <td>-2</td>\n",
              "      <td>-1</td>\n",
              "      <td>3</td>\n",
              "      <td>3</td>\n",
              "      <td>0</td>\n",
              "      <td>0</td>\n",
              "      <td>...</td>\n",
              "      <td>3</td>\n",
              "      <td>0</td>\n",
              "      <td>3</td>\n",
              "      <td>3</td>\n",
              "      <td>-3</td>\n",
              "      <td>3</td>\n",
              "      <td>3.0</td>\n",
              "      <td>22</td>\n",
              "      <td>3</td>\n",
              "      <td>High</td>\n",
              "    </tr>\n",
              "    <tr>\n",
              "      <th>3</th>\n",
              "      <td>2</td>\n",
              "      <td>0</td>\n",
              "      <td>1</td>\n",
              "      <td>3</td>\n",
              "      <td>-2</td>\n",
              "      <td>0</td>\n",
              "      <td>1</td>\n",
              "      <td>0</td>\n",
              "      <td>0</td>\n",
              "      <td>3</td>\n",
              "      <td>...</td>\n",
              "      <td>0</td>\n",
              "      <td>0</td>\n",
              "      <td>2</td>\n",
              "      <td>0</td>\n",
              "      <td>-3</td>\n",
              "      <td>3</td>\n",
              "      <td>4.0</td>\n",
              "      <td>19</td>\n",
              "      <td>3</td>\n",
              "      <td>High</td>\n",
              "    </tr>\n",
              "    <tr>\n",
              "      <th>4</th>\n",
              "      <td>3</td>\n",
              "      <td>-1</td>\n",
              "      <td>3</td>\n",
              "      <td>3</td>\n",
              "      <td>-2</td>\n",
              "      <td>0</td>\n",
              "      <td>3</td>\n",
              "      <td>0</td>\n",
              "      <td>0</td>\n",
              "      <td>3</td>\n",
              "      <td>...</td>\n",
              "      <td>0</td>\n",
              "      <td>0</td>\n",
              "      <td>2</td>\n",
              "      <td>0</td>\n",
              "      <td>-3</td>\n",
              "      <td>-3</td>\n",
              "      <td>2.0</td>\n",
              "      <td>19</td>\n",
              "      <td>3</td>\n",
              "      <td>High</td>\n",
              "    </tr>\n",
              "  </tbody>\n",
              "</table>\n",
              "<p>5 rows × 29 columns</p>\n",
              "</div>"
            ],
            "text/plain": [
              "   _c1_loss_declaration  _c2_capital_to_turnover  _c3_expense_to_turnover  \\\n",
              "0                     1                       -3                        3   \n",
              "1                     3                        3                        3   \n",
              "2                     3                       -3                        3   \n",
              "3                     2                        0                        1   \n",
              "4                     3                       -1                        3   \n",
              "\n",
              "   _c4_turnover_to_vat_sales  _c5_audit_opinion  _c6_profit_margin  \\\n",
              "0                          3                  0                  1   \n",
              "1                         -1                 -2                 -1   \n",
              "2                         -1                 -2                 -1   \n",
              "3                          3                 -2                  0   \n",
              "4                          3                 -2                  0   \n",
              "\n",
              "   _c7_debt_to_turnover  _c8_inventory_to_turnover  \\\n",
              "0                     3                          0   \n",
              "1                     3                          0   \n",
              "2                     3                          3   \n",
              "3                     1                          0   \n",
              "4                     3                          0   \n",
              "\n",
              "   _c9_exempt_sales_to_turnover  _c10_unusually_high_expenses  ...  \\\n",
              "0                             3                             3  ...   \n",
              "1                             0                             3  ...   \n",
              "2                             0                             0  ...   \n",
              "3                             0                             3  ...   \n",
              "4                             0                             3  ...   \n",
              "\n",
              "   _c24_vat_import_purchase  _c25_vat_customs_export  _c27_liability_to_asset  \\\n",
              "0                         3                        3                        2   \n",
              "1                         0                        0                        2   \n",
              "2                         3                        0                        3   \n",
              "3                         0                        0                        2   \n",
              "4                         0                        0                        2   \n",
              "\n",
              "   _c28_asset_to_turnover  _c29_foreign_company  _c30_intelligence  \\\n",
              "0                       3                    -3                 -3   \n",
              "1                       3                    -3                  3   \n",
              "2                       3                    -3                  3   \n",
              "3                       0                    -3                  3   \n",
              "4                       0                    -3                 -3   \n",
              "\n",
              "   last_audit_year  final_score  risk_score  risk_level  \n",
              "0              3.0           33           4        High  \n",
              "1              2.0           24           3        High  \n",
              "2              3.0           22           3        High  \n",
              "3              4.0           19           3        High  \n",
              "4              2.0           19           3        High  \n",
              "\n",
              "[5 rows x 29 columns]"
            ]
          },
          "execution_count": 228,
          "metadata": {},
          "output_type": "execute_result"
        }
      ],
      "source": [
        "df.head()"
      ]
    },
    {
      "cell_type": "markdown",
      "metadata": {
        "id": "C0jTaj857pq-"
      },
      "source": [
        "## Checking for missing values, If any? how many?"
      ]
    },
    {
      "cell_type": "code",
      "execution_count": null,
      "metadata": {
        "colab": {
          "base_uri": "https://localhost:8080/",
          "height": 1000
        },
        "id": "poR6KiTY7pq_",
        "outputId": "82abfbeb-2448-44c4-f3fb-a43e15e23f84"
      },
      "outputs": [
        {
          "data": {
            "text/plain": [
              "_c1_loss_declaration               0\n",
              "_c2_capital_to_turnover            0\n",
              "_c3_expense_to_turnover            0\n",
              "_c4_turnover_to_vat_sales          0\n",
              "_c5_audit_opinion                  0\n",
              "_c6_profit_margin                  0\n",
              "_c7_debt_to_turnover               0\n",
              "_c8_inventory_to_turnover          0\n",
              "_c9_exempt_sales_to_turnover       0\n",
              "_c10_unusually_high_expenses       0\n",
              "_c11_interest_expense              0\n",
              "_c12_license_fees                  0\n",
              "_c13_foreign_technical             0\n",
              "_c14_depreciation_expense          0\n",
              "_c15_building_cost                 0\n",
              "_c16_comp_mv_office                0\n",
              "_c17_intengibles                   0\n",
              "_c20_capital_gain                  0\n",
              "_c22_vat_cit_sales                 0\n",
              "_c24_vat_import_purchase           0\n",
              "_c25_vat_customs_export            0\n",
              "_c27_liability_to_asset            0\n",
              "_c28_asset_to_turnover             0\n",
              "_c29_foreign_company               0\n",
              "_c30_intelligence                  0\n",
              "last_audit_year                 3171\n",
              "final_score                        0\n",
              "risk_score                         0\n",
              "risk_level                         0\n",
              "dtype: int64"
            ]
          },
          "execution_count": 229,
          "metadata": {},
          "output_type": "execute_result"
        }
      ],
      "source": [
        "df.isnull().sum()"
      ]
    },
    {
      "cell_type": "markdown",
      "metadata": {
        "id": "xT4xKbKZ7pq_"
      },
      "source": [
        "## Drop the column with missing values (3171 rows are missing)"
      ]
    },
    {
      "cell_type": "code",
      "execution_count": null,
      "metadata": {
        "id": "ikipUthF7pq_"
      },
      "outputs": [],
      "source": [
        "df = df.drop(columns=['last_audit_year'])"
      ]
    },
    {
      "cell_type": "markdown",
      "metadata": {
        "id": "mA5Vgxk_7pq_"
      },
      "source": [
        "## Converting categorical string values to numerical values"
      ]
    },
    {
      "cell_type": "code",
      "execution_count": null,
      "metadata": {
        "id": "mjOJJMcR7pq_"
      },
      "outputs": [],
      "source": [
        "risk_level_mapping = {\n",
        "    'Low': 0,\n",
        "    'Medium': 1,\n",
        "    'High': 2\n",
        "}\n",
        "\n",
        "df['risk_level'] = df['risk_level'].map(risk_level_mapping)"
      ]
    },
    {
      "cell_type": "code",
      "execution_count": null,
      "metadata": {
        "colab": {
          "base_uri": "https://localhost:8080/",
          "height": 255
        },
        "id": "lu0ZkIXw7pq_",
        "outputId": "9b011fff-7c79-447b-cfef-9c4be3460d2d"
      },
      "outputs": [
        {
          "data": {
            "text/html": [
              "<div>\n",
              "<style scoped>\n",
              "    .dataframe tbody tr th:only-of-type {\n",
              "        vertical-align: middle;\n",
              "    }\n",
              "\n",
              "    .dataframe tbody tr th {\n",
              "        vertical-align: top;\n",
              "    }\n",
              "\n",
              "    .dataframe thead th {\n",
              "        text-align: right;\n",
              "    }\n",
              "</style>\n",
              "<table border=\"1\" class=\"dataframe\">\n",
              "  <thead>\n",
              "    <tr style=\"text-align: right;\">\n",
              "      <th></th>\n",
              "      <th>_c1_loss_declaration</th>\n",
              "      <th>_c2_capital_to_turnover</th>\n",
              "      <th>_c3_expense_to_turnover</th>\n",
              "      <th>_c4_turnover_to_vat_sales</th>\n",
              "      <th>_c5_audit_opinion</th>\n",
              "      <th>_c6_profit_margin</th>\n",
              "      <th>_c7_debt_to_turnover</th>\n",
              "      <th>_c8_inventory_to_turnover</th>\n",
              "      <th>_c9_exempt_sales_to_turnover</th>\n",
              "      <th>_c10_unusually_high_expenses</th>\n",
              "      <th>...</th>\n",
              "      <th>_c22_vat_cit_sales</th>\n",
              "      <th>_c24_vat_import_purchase</th>\n",
              "      <th>_c25_vat_customs_export</th>\n",
              "      <th>_c27_liability_to_asset</th>\n",
              "      <th>_c28_asset_to_turnover</th>\n",
              "      <th>_c29_foreign_company</th>\n",
              "      <th>_c30_intelligence</th>\n",
              "      <th>final_score</th>\n",
              "      <th>risk_score</th>\n",
              "      <th>risk_level</th>\n",
              "    </tr>\n",
              "  </thead>\n",
              "  <tbody>\n",
              "    <tr>\n",
              "      <th>0</th>\n",
              "      <td>1</td>\n",
              "      <td>-3</td>\n",
              "      <td>3</td>\n",
              "      <td>3</td>\n",
              "      <td>0</td>\n",
              "      <td>1</td>\n",
              "      <td>3</td>\n",
              "      <td>0</td>\n",
              "      <td>3</td>\n",
              "      <td>3</td>\n",
              "      <td>...</td>\n",
              "      <td>3</td>\n",
              "      <td>3</td>\n",
              "      <td>3</td>\n",
              "      <td>2</td>\n",
              "      <td>3</td>\n",
              "      <td>-3</td>\n",
              "      <td>-3</td>\n",
              "      <td>33</td>\n",
              "      <td>4</td>\n",
              "      <td>2</td>\n",
              "    </tr>\n",
              "    <tr>\n",
              "      <th>1</th>\n",
              "      <td>3</td>\n",
              "      <td>3</td>\n",
              "      <td>3</td>\n",
              "      <td>-1</td>\n",
              "      <td>-2</td>\n",
              "      <td>-1</td>\n",
              "      <td>3</td>\n",
              "      <td>0</td>\n",
              "      <td>0</td>\n",
              "      <td>3</td>\n",
              "      <td>...</td>\n",
              "      <td>3</td>\n",
              "      <td>0</td>\n",
              "      <td>0</td>\n",
              "      <td>2</td>\n",
              "      <td>3</td>\n",
              "      <td>-3</td>\n",
              "      <td>3</td>\n",
              "      <td>24</td>\n",
              "      <td>3</td>\n",
              "      <td>2</td>\n",
              "    </tr>\n",
              "    <tr>\n",
              "      <th>2</th>\n",
              "      <td>3</td>\n",
              "      <td>-3</td>\n",
              "      <td>3</td>\n",
              "      <td>-1</td>\n",
              "      <td>-2</td>\n",
              "      <td>-1</td>\n",
              "      <td>3</td>\n",
              "      <td>3</td>\n",
              "      <td>0</td>\n",
              "      <td>0</td>\n",
              "      <td>...</td>\n",
              "      <td>-1</td>\n",
              "      <td>3</td>\n",
              "      <td>0</td>\n",
              "      <td>3</td>\n",
              "      <td>3</td>\n",
              "      <td>-3</td>\n",
              "      <td>3</td>\n",
              "      <td>22</td>\n",
              "      <td>3</td>\n",
              "      <td>2</td>\n",
              "    </tr>\n",
              "    <tr>\n",
              "      <th>3</th>\n",
              "      <td>2</td>\n",
              "      <td>0</td>\n",
              "      <td>1</td>\n",
              "      <td>3</td>\n",
              "      <td>-2</td>\n",
              "      <td>0</td>\n",
              "      <td>1</td>\n",
              "      <td>0</td>\n",
              "      <td>0</td>\n",
              "      <td>3</td>\n",
              "      <td>...</td>\n",
              "      <td>3</td>\n",
              "      <td>0</td>\n",
              "      <td>0</td>\n",
              "      <td>2</td>\n",
              "      <td>0</td>\n",
              "      <td>-3</td>\n",
              "      <td>3</td>\n",
              "      <td>19</td>\n",
              "      <td>3</td>\n",
              "      <td>2</td>\n",
              "    </tr>\n",
              "    <tr>\n",
              "      <th>4</th>\n",
              "      <td>3</td>\n",
              "      <td>-1</td>\n",
              "      <td>3</td>\n",
              "      <td>3</td>\n",
              "      <td>-2</td>\n",
              "      <td>0</td>\n",
              "      <td>3</td>\n",
              "      <td>0</td>\n",
              "      <td>0</td>\n",
              "      <td>3</td>\n",
              "      <td>...</td>\n",
              "      <td>3</td>\n",
              "      <td>0</td>\n",
              "      <td>0</td>\n",
              "      <td>2</td>\n",
              "      <td>0</td>\n",
              "      <td>-3</td>\n",
              "      <td>-3</td>\n",
              "      <td>19</td>\n",
              "      <td>3</td>\n",
              "      <td>2</td>\n",
              "    </tr>\n",
              "  </tbody>\n",
              "</table>\n",
              "<p>5 rows × 28 columns</p>\n",
              "</div>"
            ],
            "text/plain": [
              "   _c1_loss_declaration  _c2_capital_to_turnover  _c3_expense_to_turnover  \\\n",
              "0                     1                       -3                        3   \n",
              "1                     3                        3                        3   \n",
              "2                     3                       -3                        3   \n",
              "3                     2                        0                        1   \n",
              "4                     3                       -1                        3   \n",
              "\n",
              "   _c4_turnover_to_vat_sales  _c5_audit_opinion  _c6_profit_margin  \\\n",
              "0                          3                  0                  1   \n",
              "1                         -1                 -2                 -1   \n",
              "2                         -1                 -2                 -1   \n",
              "3                          3                 -2                  0   \n",
              "4                          3                 -2                  0   \n",
              "\n",
              "   _c7_debt_to_turnover  _c8_inventory_to_turnover  \\\n",
              "0                     3                          0   \n",
              "1                     3                          0   \n",
              "2                     3                          3   \n",
              "3                     1                          0   \n",
              "4                     3                          0   \n",
              "\n",
              "   _c9_exempt_sales_to_turnover  _c10_unusually_high_expenses  ...  \\\n",
              "0                             3                             3  ...   \n",
              "1                             0                             3  ...   \n",
              "2                             0                             0  ...   \n",
              "3                             0                             3  ...   \n",
              "4                             0                             3  ...   \n",
              "\n",
              "   _c22_vat_cit_sales  _c24_vat_import_purchase  _c25_vat_customs_export  \\\n",
              "0                   3                         3                        3   \n",
              "1                   3                         0                        0   \n",
              "2                  -1                         3                        0   \n",
              "3                   3                         0                        0   \n",
              "4                   3                         0                        0   \n",
              "\n",
              "   _c27_liability_to_asset  _c28_asset_to_turnover  _c29_foreign_company  \\\n",
              "0                        2                       3                    -3   \n",
              "1                        2                       3                    -3   \n",
              "2                        3                       3                    -3   \n",
              "3                        2                       0                    -3   \n",
              "4                        2                       0                    -3   \n",
              "\n",
              "   _c30_intelligence  final_score  risk_score  risk_level  \n",
              "0                 -3           33           4           2  \n",
              "1                  3           24           3           2  \n",
              "2                  3           22           3           2  \n",
              "3                  3           19           3           2  \n",
              "4                 -3           19           3           2  \n",
              "\n",
              "[5 rows x 28 columns]"
            ]
          },
          "execution_count": 233,
          "metadata": {},
          "output_type": "execute_result"
        }
      ],
      "source": [
        "df.head()"
      ]
    },
    {
      "cell_type": "markdown",
      "metadata": {
        "id": "QUYhgh2IEbEj"
      },
      "source": [
        "## Check the existence of outliers"
      ]
    },
    {
      "cell_type": "code",
      "execution_count": null,
      "metadata": {
        "colab": {
          "base_uri": "https://localhost:8080/"
        },
        "id": "TiYuw8iIEbEj",
        "outputId": "7258a2e9-f47e-4e99-f9f4-43a900c6861c"
      },
      "outputs": [
        {
          "output_type": "stream",
          "name": "stdout",
          "text": [
            "Maximum values per column:\n",
            "_c1_loss_declaration             3\n",
            "_c2_capital_to_turnover          3\n",
            "_c3_expense_to_turnover          3\n",
            "_c4_turnover_to_vat_sales        3\n",
            "_c5_audit_opinion                0\n",
            "_c6_profit_margin                3\n",
            "_c7_debt_to_turnover             3\n",
            "_c8_inventory_to_turnover        3\n",
            "_c9_exempt_sales_to_turnover     3\n",
            "_c10_unusually_high_expenses     3\n",
            "_c11_interest_expense            3\n",
            "_c12_license_fees                3\n",
            "_c13_foreign_technical           3\n",
            "_c14_depreciation_expense        3\n",
            "_c15_building_cost               3\n",
            "_c16_comp_mv_office              3\n",
            "_c17_intengibles                 3\n",
            "_c20_capital_gain                3\n",
            "_c22_vat_cit_sales               3\n",
            "_c24_vat_import_purchase         3\n",
            "_c25_vat_customs_export          3\n",
            "_c27_liability_to_asset          3\n",
            "_c28_asset_to_turnover           3\n",
            "_c29_foreign_company            -3\n",
            "_c30_intelligence                3\n",
            "final_score                     33\n",
            "risk_score                       4\n",
            "risk_level                       2\n",
            "dtype: int64\n",
            "\n",
            "Minimum values per column:\n",
            "_c1_loss_declaration             0\n",
            "_c2_capital_to_turnover         -3\n",
            "_c3_expense_to_turnover         -3\n",
            "_c4_turnover_to_vat_sales       -3\n",
            "_c5_audit_opinion               -2\n",
            "_c6_profit_margin               -3\n",
            "_c7_debt_to_turnover            -3\n",
            "_c8_inventory_to_turnover       -1\n",
            "_c9_exempt_sales_to_turnover    -3\n",
            "_c10_unusually_high_expenses    -1\n",
            "_c11_interest_expense           -1\n",
            "_c12_license_fees               -3\n",
            "_c13_foreign_technical          -3\n",
            "_c14_depreciation_expense       -1\n",
            "_c15_building_cost              -1\n",
            "_c16_comp_mv_office             -1\n",
            "_c17_intengibles                -1\n",
            "_c20_capital_gain               -3\n",
            "_c22_vat_cit_sales              -3\n",
            "_c24_vat_import_purchase        -3\n",
            "_c25_vat_customs_export         -3\n",
            "_c27_liability_to_asset         -3\n",
            "_c28_asset_to_turnover          -3\n",
            "_c29_foreign_company            -3\n",
            "_c30_intelligence               -3\n",
            "final_score                    -27\n",
            "risk_score                      -2\n",
            "risk_level                       0\n",
            "dtype: int64\n"
          ]
        }
      ],
      "source": [
        "max_values = df.max()\n",
        "\n",
        "# Get minimum values for each column\n",
        "min_values = df.min()\n",
        "print(\"Maximum values per column:\")\n",
        "print(max_values)\n",
        "\n",
        "print(\"\\nMinimum values per column:\")\n",
        "print(min_values)"
      ]
    },
    {
      "cell_type": "markdown",
      "metadata": {
        "id": "btZwE-od7pq_"
      },
      "source": [
        "## Check data imbalance"
      ]
    },
    {
      "cell_type": "code",
      "execution_count": null,
      "metadata": {
        "colab": {
          "base_uri": "https://localhost:8080/",
          "height": 557
        },
        "id": "NyKFTqXt7pq_",
        "outputId": "096dedfe-6b60-43fe-b883-25410777afb5"
      },
      "outputs": [
        {
          "output_type": "stream",
          "name": "stderr",
          "text": [
            "<ipython-input-21-d91e6e82da6a>:1: FutureWarning: \n",
            "\n",
            "Passing `palette` without assigning `hue` is deprecated and will be removed in v0.14.0. Assign the `x` variable to `hue` and set `legend=False` for the same effect.\n",
            "\n",
            "  sns.countplot(x='risk_level', data=df,palette='Set1')\n"
          ]
        },
        {
          "output_type": "execute_result",
          "data": {
            "text/plain": [
              "<Axes: xlabel='risk_level', ylabel='count'>"
            ]
          },
          "metadata": {},
          "execution_count": 21
        },
        {
          "output_type": "display_data",
          "data": {
            "text/plain": [
              "<Figure size 640x480 with 1 Axes>"
            ],
            "image/png": "[encoded data removed]"
          },
          "metadata": {}
        }
      ],
      "source": [
        "sns.countplot(x='risk_level', data=df,palette='Set1')"
      ]
    },
    {
      "cell_type": "markdown",
      "metadata": {
        "id": "1QMpn18AEbEj"
      },
      "source": [
        "## Check correlation"
      ]
    },
    {
      "cell_type": "code",
      "execution_count": null,
      "metadata": {
        "colab": {
          "base_uri": "https://localhost:8080/"
        },
        "id": "7nSBgg-fEbEj",
        "outputId": "0f53d061-9f2b-4e0e-cf3f-7ebf4a52a59c"
      },
      "outputs": [
        {
          "output_type": "stream",
          "name": "stdout",
          "text": [
            "risk_level                      1.000000\n",
            "final_score                     0.909648\n",
            "risk_score                      0.890778\n",
            "_c24_vat_import_purchase        0.664693\n",
            "_c25_vat_customs_export         0.663074\n",
            "_c22_vat_cit_sales              0.634526\n",
            "_c4_turnover_to_vat_sales       0.618091\n",
            "_c16_comp_mv_office             0.530728\n",
            "_c14_depreciation_expense       0.479829\n",
            "_c1_loss_declaration            0.386819\n",
            "_c10_unusually_high_expenses    0.366066\n",
            "_c27_liability_to_asset         0.362268\n",
            "_c7_debt_to_turnover            0.284462\n",
            "_c3_expense_to_turnover         0.274851\n",
            "_c30_intelligence               0.209076\n",
            "_c12_license_fees               0.197152\n",
            "_c8_inventory_to_turnover       0.188286\n",
            "_c6_profit_margin               0.162555\n",
            "_c20_capital_gain               0.102749\n",
            "_c13_foreign_technical          0.100418\n",
            "_c5_audit_opinion               0.098123\n",
            "_c11_interest_expense           0.097311\n",
            "_c2_capital_to_turnover         0.093883\n",
            "_c15_building_cost              0.064935\n",
            "_c17_intengibles                0.036573\n",
            "_c9_exempt_sales_to_turnover    0.026865\n",
            "_c28_asset_to_turnover          0.025435\n",
            "_c29_foreign_company                 NaN\n",
            "Name: risk_level, dtype: float64\n"
          ]
        }
      ],
      "source": [
        "import pandas as pd\n",
        "\n",
        "corr_matrix = df.corr()\n",
        "target_corr = corr_matrix['risk_level'].abs().sort_values(ascending=False)\n",
        "print(target_corr)\n"
      ]
    },
    {
      "cell_type": "code",
      "execution_count": null,
      "metadata": {
        "colab": {
          "base_uri": "https://localhost:8080/",
          "height": 1000
        },
        "id": "8ZhoEpj-EbEj",
        "outputId": "b9ede0b8-cf10-4c41-a2f9-fc2fe80c7813"
      },
      "outputs": [
        {
          "output_type": "display_data",
          "data": {
            "text/plain": [
              "<Figure size 1500x1000 with 2 Axes>"
            ],
            "image/png": "[encoded data removed]"
          },
          "metadata": {}
        }
      ],
      "source": [
        "correlation_matrix = df.corr()\n",
        "\n",
        "# Plot the correlation heatmap\n",
        "plt.figure(figsize=(15, 10))\n",
        "sns.heatmap(correlation_matrix, annot=False, cmap='coolwarm', center=0)\n",
        "plt.title('Correlation Matrix Heatmap')\n",
        "plt.show()"
      ]
    },
    {
      "cell_type": "markdown",
      "source": [
        "## Checking if any of the columns have constant values throughout the dataset"
      ],
      "metadata": {
        "id": "IN4V9MJ6RUWb"
      }
    },
    {
      "cell_type": "code",
      "source": [
        "constant_columns = [col for col in df.columns if df[col].nunique() == 1]\n",
        "\n",
        "print(\"Columns with constant values:\", constant_columns)"
      ],
      "metadata": {
        "colab": {
          "base_uri": "https://localhost:8080/"
        },
        "id": "2AqRyIeKQMFg",
        "outputId": "2af0a96f-6686-4117-eeeb-e2ac031c2361"
      },
      "execution_count": null,
      "outputs": [
        {
          "output_type": "stream",
          "name": "stdout",
          "text": [
            "Columns with constant values: ['_c29_foreign_company']\n"
          ]
        }
      ]
    },
    {
      "cell_type": "markdown",
      "metadata": {
        "id": "5xNPn-eg7pq_"
      },
      "source": [
        "## Separating the label from the rest of the data"
      ]
    },
    {
      "cell_type": "markdown",
      "metadata": {
        "id": "C8cNdF62EbEj"
      },
      "source": [
        "* Removing features with data leakage (final score and risk score are derived attributes and they are not available at the time of prediction)\n",
        "* Removing the feature that has a constant value throughout the dataset\n",
        "* Removing the label from x"
      ]
    },
    {
      "cell_type": "code",
      "execution_count": null,
      "metadata": {
        "id": "qtoHlpZ77pq_"
      },
      "outputs": [],
      "source": [
        "x=df.drop([\"risk_level\",\"final_score\",\"risk_score\",\"_c29_foreign_company\"], axis=1)\n",
        "y=df[\"risk_level\"]"
      ]
    },
    {
      "cell_type": "code",
      "execution_count": null,
      "metadata": {
        "colab": {
          "base_uri": "https://localhost:8080/",
          "height": 256
        },
        "id": "h8VuS9I07prA",
        "outputId": "9739e192-b3b6-46a8-96ff-68c6f17c2192"
      },
      "outputs": [
        {
          "output_type": "execute_result",
          "data": {
            "text/plain": [
              "   _c1_loss_declaration  _c2_capital_to_turnover  _c3_expense_to_turnover  \\\n",
              "0                     1                       -3                        3   \n",
              "1                     3                        3                        3   \n",
              "2                     3                       -3                        3   \n",
              "3                     2                        0                        1   \n",
              "4                     3                       -1                        3   \n",
              "\n",
              "   _c4_turnover_to_vat_sales  _c5_audit_opinion  _c6_profit_margin  \\\n",
              "0                          3                  0                  1   \n",
              "1                         -1                 -2                 -1   \n",
              "2                         -1                 -2                 -1   \n",
              "3                          3                 -2                  0   \n",
              "4                          3                 -2                  0   \n",
              "\n",
              "   _c7_debt_to_turnover  _c8_inventory_to_turnover  \\\n",
              "0                     3                          0   \n",
              "1                     3                          0   \n",
              "2                     3                          3   \n",
              "3                     1                          0   \n",
              "4                     3                          0   \n",
              "\n",
              "   _c9_exempt_sales_to_turnover  _c10_unusually_high_expenses  ...  \\\n",
              "0                             3                             3  ...   \n",
              "1                             0                             3  ...   \n",
              "2                             0                             0  ...   \n",
              "3                             0                             3  ...   \n",
              "4                             0                             3  ...   \n",
              "\n",
              "   _c22_vat_cit_sales  _c24_vat_import_purchase  _c25_vat_customs_export  \\\n",
              "0                   3                         3                        3   \n",
              "1                   3                         0                        0   \n",
              "2                  -1                         3                        0   \n",
              "3                   3                         0                        0   \n",
              "4                   3                         0                        0   \n",
              "\n",
              "   _c27_liability_to_asset  _c28_asset_to_turnover  _c29_foreign_company  \\\n",
              "0                        2                       3                    -3   \n",
              "1                        2                       3                    -3   \n",
              "2                        3                       3                    -3   \n",
              "3                        2                       0                    -3   \n",
              "4                        2                       0                    -3   \n",
              "\n",
              "   _c30_intelligence  final_score  risk_score  risk_level  \n",
              "0                 -3           33           4           2  \n",
              "1                  3           24           3           2  \n",
              "2                  3           22           3           2  \n",
              "3                  3           19           3           2  \n",
              "4                 -3           19           3           2  \n",
              "\n",
              "[5 rows x 28 columns]"
            ],
            "text/html": [
              "\n",
              "  <div id=\"df-4325cfbe-1109-417b-9fc6-57b25dedf76e\" class=\"colab-df-container\">\n",
              "    <div>\n",
              "<style scoped>\n",
              "    .dataframe tbody tr th:only-of-type {\n",
              "        vertical-align: middle;\n",
              "    }\n",
              "\n",
              "    .dataframe tbody tr th {\n",
              "        vertical-align: top;\n",
              "    }\n",
              "\n",
              "    .dataframe thead th {\n",
              "        text-align: right;\n",
              "    }\n",
              "</style>\n",
              "<table border=\"1\" class=\"dataframe\">\n",
              "  <thead>\n",
              "    <tr style=\"text-align: right;\">\n",
              "      <th></th>\n",
              "      <th>_c1_loss_declaration</th>\n",
              "      <th>_c2_capital_to_turnover</th>\n",
              "      <th>_c3_expense_to_turnover</th>\n",
              "      <th>_c4_turnover_to_vat_sales</th>\n",
              "      <th>_c5_audit_opinion</th>\n",
              "      <th>_c6_profit_margin</th>\n",
              "      <th>_c7_debt_to_turnover</th>\n",
              "      <th>_c8_inventory_to_turnover</th>\n",
              "      <th>_c9_exempt_sales_to_turnover</th>\n",
              "      <th>_c10_unusually_high_expenses</th>\n",
              "      <th>...</th>\n",
              "      <th>_c22_vat_cit_sales</th>\n",
              "      <th>_c24_vat_import_purchase</th>\n",
              "      <th>_c25_vat_customs_export</th>\n",
              "      <th>_c27_liability_to_asset</th>\n",
              "      <th>_c28_asset_to_turnover</th>\n",
              "      <th>_c29_foreign_company</th>\n",
              "      <th>_c30_intelligence</th>\n",
              "      <th>final_score</th>\n",
              "      <th>risk_score</th>\n",
              "      <th>risk_level</th>\n",
              "    </tr>\n",
              "  </thead>\n",
              "  <tbody>\n",
              "    <tr>\n",
              "      <th>0</th>\n",
              "      <td>1</td>\n",
              "      <td>-3</td>\n",
              "      <td>3</td>\n",
              "      <td>3</td>\n",
              "      <td>0</td>\n",
              "      <td>1</td>\n",
              "      <td>3</td>\n",
              "      <td>0</td>\n",
              "      <td>3</td>\n",
              "      <td>3</td>\n",
              "      <td>...</td>\n",
              "      <td>3</td>\n",
              "      <td>3</td>\n",
              "      <td>3</td>\n",
              "      <td>2</td>\n",
              "      <td>3</td>\n",
              "      <td>-3</td>\n",
              "      <td>-3</td>\n",
              "      <td>33</td>\n",
              "      <td>4</td>\n",
              "      <td>2</td>\n",
              "    </tr>\n",
              "    <tr>\n",
              "      <th>1</th>\n",
              "      <td>3</td>\n",
              "      <td>3</td>\n",
              "      <td>3</td>\n",
              "      <td>-1</td>\n",
              "      <td>-2</td>\n",
              "      <td>-1</td>\n",
              "      <td>3</td>\n",
              "      <td>0</td>\n",
              "      <td>0</td>\n",
              "      <td>3</td>\n",
              "      <td>...</td>\n",
              "      <td>3</td>\n",
              "      <td>0</td>\n",
              "      <td>0</td>\n",
              "      <td>2</td>\n",
              "      <td>3</td>\n",
              "      <td>-3</td>\n",
              "      <td>3</td>\n",
              "      <td>24</td>\n",
              "      <td>3</td>\n",
              "      <td>2</td>\n",
              "    </tr>\n",
              "    <tr>\n",
              "      <th>2</th>\n",
              "      <td>3</td>\n",
              "      <td>-3</td>\n",
              "      <td>3</td>\n",
              "      <td>-1</td>\n",
              "      <td>-2</td>\n",
              "      <td>-1</td>\n",
              "      <td>3</td>\n",
              "      <td>3</td>\n",
              "      <td>0</td>\n",
              "      <td>0</td>\n",
              "      <td>...</td>\n",
              "      <td>-1</td>\n",
              "      <td>3</td>\n",
              "      <td>0</td>\n",
              "      <td>3</td>\n",
              "      <td>3</td>\n",
              "      <td>-3</td>\n",
              "      <td>3</td>\n",
              "      <td>22</td>\n",
              "      <td>3</td>\n",
              "      <td>2</td>\n",
              "    </tr>\n",
              "    <tr>\n",
              "      <th>3</th>\n",
              "      <td>2</td>\n",
              "      <td>0</td>\n",
              "      <td>1</td>\n",
              "      <td>3</td>\n",
              "      <td>-2</td>\n",
              "      <td>0</td>\n",
              "      <td>1</td>\n",
              "      <td>0</td>\n",
              "      <td>0</td>\n",
              "      <td>3</td>\n",
              "      <td>...</td>\n",
              "      <td>3</td>\n",
              "      <td>0</td>\n",
              "      <td>0</td>\n",
              "      <td>2</td>\n",
              "      <td>0</td>\n",
              "      <td>-3</td>\n",
              "      <td>3</td>\n",
              "      <td>19</td>\n",
              "      <td>3</td>\n",
              "      <td>2</td>\n",
              "    </tr>\n",
              "    <tr>\n",
              "      <th>4</th>\n",
              "      <td>3</td>\n",
              "      <td>-1</td>\n",
              "      <td>3</td>\n",
              "      <td>3</td>\n",
              "      <td>-2</td>\n",
              "      <td>0</td>\n",
              "      <td>3</td>\n",
              "      <td>0</td>\n",
              "      <td>0</td>\n",
              "      <td>3</td>\n",
              "      <td>...</td>\n",
              "      <td>3</td>\n",
              "      <td>0</td>\n",
              "      <td>0</td>\n",
              "      <td>2</td>\n",
              "      <td>0</td>\n",
              "      <td>-3</td>\n",
              "      <td>-3</td>\n",
              "      <td>19</td>\n",
              "      <td>3</td>\n",
              "      <td>2</td>\n",
              "    </tr>\n",
              "  </tbody>\n",
              "</table>\n",
              "<p>5 rows × 28 columns</p>\n",
              "</div>\n",
              "    <div class=\"colab-df-buttons\">\n",
              "\n",
              "  <div class=\"colab-df-container\">\n",
              "    <button class=\"colab-df-convert\" onclick=\"convertToInteractive('df-4325cfbe-1109-417b-9fc6-57b25dedf76e')\"\n",
              "            title=\"Convert this dataframe to an interactive table.\"\n",
              "            style=\"display:none;\">\n",
              "\n",
              "  <svg xmlns=\"http://www.w3.org/2000/svg\" height=\"24px\" viewBox=\"0 -960 960 960\">\n",
              "    <path d=\"M120-120v-720h720v720H120Zm60-500h600v-160H180v160Zm220 220h160v-160H400v160Zm0 220h160v-160H400v160ZM180-400h160v-160H180v160Zm440 0h160v-160H620v160ZM180-180h160v-160H180v160Zm440 0h160v-160H620v160Z\"/>\n",
              "  </svg>\n",
              "    </button>\n",
              "\n",
              "  <style>\n",
              "    .colab-df-container {\n",
              "      display:flex;\n",
              "      gap: 12px;\n",
              "    }\n",
              "\n",
              "    .colab-df-convert {\n",
              "      background-color: #E8F0FE;\n",
              "      border: none;\n",
              "      border-radius: 50%;\n",
              "      cursor: pointer;\n",
              "      display: none;\n",
              "      fill: #1967D2;\n",
              "      height: 32px;\n",
              "      padding: 0 0 0 0;\n",
              "      width: 32px;\n",
              "    }\n",
              "\n",
              "    .colab-df-convert:hover {\n",
              "      background-color: #E2EBFA;\n",
              "      box-shadow: 0px 1px 2px rgba(60, 64, 67, 0.3), 0px 1px 3px 1px rgba(60, 64, 67, 0.15);\n",
              "      fill: #174EA6;\n",
              "    }\n",
              "\n",
              "    .colab-df-buttons div {\n",
              "      margin-bottom: 4px;\n",
              "    }\n",
              "\n",
              "    [theme=dark] .colab-df-convert {\n",
              "      background-color: #3B4455;\n",
              "      fill: #D2E3FC;\n",
              "    }\n",
              "\n",
              "    [theme=dark] .colab-df-convert:hover {\n",
              "      background-color: #434B5C;\n",
              "      box-shadow: 0px 1px 3px 1px rgba(0, 0, 0, 0.15);\n",
              "      filter: drop-shadow(0px 1px 2px rgba(0, 0, 0, 0.3));\n",
              "      fill: #FFFFFF;\n",
              "    }\n",
              "  </style>\n",
              "\n",
              "    <script>\n",
              "      const buttonEl =\n",
              "        document.querySelector('#df-4325cfbe-1109-417b-9fc6-57b25dedf76e button.colab-df-convert');\n",
              "      buttonEl.style.display =\n",
              "        google.colab.kernel.accessAllowed ? 'block' : 'none';\n",
              "\n",
              "      async function convertToInteractive(key) {\n",
              "        const element = document.querySelector('#df-4325cfbe-1109-417b-9fc6-57b25dedf76e');\n",
              "        const dataTable =\n",
              "          await google.colab.kernel.invokeFunction('convertToInteractive',\n",
              "                                                    [key], {});\n",
              "        if (!dataTable) return;\n",
              "\n",
              "        const docLinkHtml = 'Like what you see? Visit the ' +\n",
              "          '<a target=\"_blank\" href=https://colab.research.google.com/notebooks/data_table.ipynb>data table notebook</a>'\n",
              "          + ' to learn more about interactive tables.';\n",
              "        element.innerHTML = '';\n",
              "        dataTable['output_type'] = 'display_data';\n",
              "        await google.colab.output.renderOutput(dataTable, element);\n",
              "        const docLink = document.createElement('div');\n",
              "        docLink.innerHTML = docLinkHtml;\n",
              "        element.appendChild(docLink);\n",
              "      }\n",
              "    </script>\n",
              "  </div>\n",
              "\n",
              "\n",
              "<div id=\"df-74ed6793-9b8f-42e8-a204-a2153f4e4916\">\n",
              "  <button class=\"colab-df-quickchart\" onclick=\"quickchart('df-74ed6793-9b8f-42e8-a204-a2153f4e4916')\"\n",
              "            title=\"Suggest charts\"\n",
              "            style=\"display:none;\">\n",
              "\n",
              "<svg xmlns=\"http://www.w3.org/2000/svg\" height=\"24px\"viewBox=\"0 0 24 24\"\n",
              "     width=\"24px\">\n",
              "    <g>\n",
              "        <path d=\"M19 3H5c-1.1 0-2 .9-2 2v14c0 1.1.9 2 2 2h14c1.1 0 2-.9 2-2V5c0-1.1-.9-2-2-2zM9 17H7v-7h2v7zm4 0h-2V7h2v10zm4 0h-2v-4h2v4z\"/>\n",
              "    </g>\n",
              "</svg>\n",
              "  </button>\n",
              "\n",
              "<style>\n",
              "  .colab-df-quickchart {\n",
              "      --bg-color: #E8F0FE;\n",
              "      --fill-color: #1967D2;\n",
              "      --hover-bg-color: #E2EBFA;\n",
              "      --hover-fill-color: #174EA6;\n",
              "      --disabled-fill-color: #AAA;\n",
              "      --disabled-bg-color: #DDD;\n",
              "  }\n",
              "\n",
              "  [theme=dark] .colab-df-quickchart {\n",
              "      --bg-color: #3B4455;\n",
              "      --fill-color: #D2E3FC;\n",
              "      --hover-bg-color: #434B5C;\n",
              "      --hover-fill-color: #FFFFFF;\n",
              "      --disabled-bg-color: #3B4455;\n",
              "      --disabled-fill-color: #666;\n",
              "  }\n",
              "\n",
              "  .colab-df-quickchart {\n",
              "    background-color: var(--bg-color);\n",
              "    border: none;\n",
              "    border-radius: 50%;\n",
              "    cursor: pointer;\n",
              "    display: none;\n",
              "    fill: var(--fill-color);\n",
              "    height: 32px;\n",
              "    padding: 0;\n",
              "    width: 32px;\n",
              "  }\n",
              "\n",
              "  .colab-df-quickchart:hover {\n",
              "    background-color: var(--hover-bg-color);\n",
              "    box-shadow: 0 1px 2px rgba(60, 64, 67, 0.3), 0 1px 3px 1px rgba(60, 64, 67, 0.15);\n",
              "    fill: var(--button-hover-fill-color);\n",
              "  }\n",
              "\n",
              "  .colab-df-quickchart-complete:disabled,\n",
              "  .colab-df-quickchart-complete:disabled:hover {\n",
              "    background-color: var(--disabled-bg-color);\n",
              "    fill: var(--disabled-fill-color);\n",
              "    box-shadow: none;\n",
              "  }\n",
              "\n",
              "  .colab-df-spinner {\n",
              "    border: 2px solid var(--fill-color);\n",
              "    border-color: transparent;\n",
              "    border-bottom-color: var(--fill-color);\n",
              "    animation:\n",
              "      spin 1s steps(1) infinite;\n",
              "  }\n",
              "\n",
              "  @keyframes spin {\n",
              "    0% {\n",
              "      border-color: transparent;\n",
              "      border-bottom-color: var(--fill-color);\n",
              "      border-left-color: var(--fill-color);\n",
              "    }\n",
              "    20% {\n",
              "      border-color: transparent;\n",
              "      border-left-color: var(--fill-color);\n",
              "      border-top-color: var(--fill-color);\n",
              "    }\n",
              "    30% {\n",
              "      border-color: transparent;\n",
              "      border-left-color: var(--fill-color);\n",
              "      border-top-color: var(--fill-color);\n",
              "      border-right-color: var(--fill-color);\n",
              "    }\n",
              "    40% {\n",
              "      border-color: transparent;\n",
              "      border-right-color: var(--fill-color);\n",
              "      border-top-color: var(--fill-color);\n",
              "    }\n",
              "    60% {\n",
              "      border-color: transparent;\n",
              "      border-right-color: var(--fill-color);\n",
              "    }\n",
              "    80% {\n",
              "      border-color: transparent;\n",
              "      border-right-color: var(--fill-color);\n",
              "      border-bottom-color: var(--fill-color);\n",
              "    }\n",
              "    90% {\n",
              "      border-color: transparent;\n",
              "      border-bottom-color: var(--fill-color);\n",
              "    }\n",
              "  }\n",
              "</style>\n",
              "\n",
              "  <script>\n",
              "    async function quickchart(key) {\n",
              "      const quickchartButtonEl =\n",
              "        document.querySelector('#' + key + ' button');\n",
              "      quickchartButtonEl.disabled = true;  // To prevent multiple clicks.\n",
              "      quickchartButtonEl.classList.add('colab-df-spinner');\n",
              "      try {\n",
              "        const charts = await google.colab.kernel.invokeFunction(\n",
              "            'suggestCharts', [key], {});\n",
              "      } catch (error) {\n",
              "        console.error('Error during call to suggestCharts:', error);\n",
              "      }\n",
              "      quickchartButtonEl.classList.remove('colab-df-spinner');\n",
              "      quickchartButtonEl.classList.add('colab-df-quickchart-complete');\n",
              "    }\n",
              "    (() => {\n",
              "      let quickchartButtonEl =\n",
              "        document.querySelector('#df-74ed6793-9b8f-42e8-a204-a2153f4e4916 button');\n",
              "      quickchartButtonEl.style.display =\n",
              "        google.colab.kernel.accessAllowed ? 'block' : 'none';\n",
              "    })();\n",
              "  </script>\n",
              "</div>\n",
              "\n",
              "    </div>\n",
              "  </div>\n"
            ],
            "application/vnd.google.colaboratory.intrinsic+json": {
              "type": "dataframe",
              "variable_name": "df"
            }
          },
          "metadata": {},
          "execution_count": 25
        }
      ],
      "source": [
        "df.head()"
      ]
    },
    {
      "cell_type": "code",
      "execution_count": null,
      "metadata": {
        "colab": {
          "base_uri": "https://localhost:8080/"
        },
        "id": "AYqRT4RP7prA",
        "outputId": "1f9ad9b4-dc87-441b-ce36-6c6cd39aff0a"
      },
      "outputs": [
        {
          "name": "stdout",
          "output_type": "stream",
          "text": [
            "(4787,)\n",
            "(4787, 24)\n"
          ]
        }
      ],
      "source": [
        "print(y.shape)\n",
        "print(x.shape)"
      ]
    },
    {
      "cell_type": "markdown",
      "metadata": {
        "id": "ZWb0kQCd7prA"
      },
      "source": [
        "## Preparing the data for training and testing"
      ]
    },
    {
      "cell_type": "code",
      "execution_count": null,
      "metadata": {
        "id": "vsUQYOK07prA"
      },
      "outputs": [],
      "source": [
        "x_train, x_test, y_train, y_test = train_test_split(x, y, test_size=0.2, random_state=42)"
      ]
    },
    {
      "cell_type": "markdown",
      "metadata": {
        "id": "JYinaLwB7prA"
      },
      "source": [
        "## Applying SMOTE to balance the data"
      ]
    },
    {
      "cell_type": "code",
      "execution_count": null,
      "metadata": {
        "colab": {
          "base_uri": "https://localhost:8080/"
        },
        "id": "C2STvy4R7prA",
        "outputId": "e82f5c79-3e73-4729-8c02-b6581030917a"
      },
      "outputs": [
        {
          "output_type": "stream",
          "name": "stdout",
          "text": [
            "Counter({1: 1952, 0: 945, 2: 932})\n",
            "Counter({2: 1952, 1: 1952, 0: 1952})\n"
          ]
        }
      ],
      "source": [
        "from collections import Counter\n",
        "counter=Counter(y_train)\n",
        "y_train = y_train.astype(int)\n",
        "print(counter)\n",
        "smote=SMOTE()\n",
        "x_train,y_train=smote.fit_resample(x_train,y_train)\n",
        "df= pd.DataFrame(x_train, columns=x_train.columns)\n",
        "df['risk_level'] = y_train\n",
        "counter=Counter(y_train)\n",
        "print(counter)\n",
        "df.to_csv('sampled.csv', index=False)"
      ]
    },
    {
      "cell_type": "markdown",
      "metadata": {
        "id": "l3RZgtxi7prA"
      },
      "source": [
        "## Visualizing the data after balancing"
      ]
    },
    {
      "cell_type": "code",
      "execution_count": null,
      "metadata": {
        "colab": {
          "base_uri": "https://localhost:8080/",
          "height": 578
        },
        "id": "4yt25HAO7prA",
        "outputId": "dd15a639-b0a0-40b4-fedd-307b95a0bced"
      },
      "outputs": [
        {
          "name": "stderr",
          "output_type": "stream",
          "text": [
            "/tmp/ipykernel_5697/2463429578.py:1: FutureWarning: \n",
            "\n",
            "Passing `palette` without assigning `hue` is deprecated and will be removed in v0.14.0. Assign the `x` variable to `hue` and set `legend=False` for the same effect.\n",
            "\n",
            "  sns.countplot(x='risk_level', data=df,palette='Set1')\n"
          ]
        },
        {
          "data": {
            "text/plain": [
              "<Axes: xlabel='risk_level', ylabel='count'>"
            ]
          },
          "execution_count": 240,
          "metadata": {},
          "output_type": "execute_result"
        },
        {
          "data": {
            "image/png": "[encoded data removed]",
            "text/plain": [
              "<Figure size 640x480 with 1 Axes>"
            ]
          },
          "metadata": {},
          "output_type": "display_data"
        }
      ],
      "source": [
        "sns.countplot(x='risk_level', data=df,palette='Set1')\n"
      ]
    },
    {
      "cell_type": "markdown",
      "metadata": {
        "id": "PMqJFKf27prA"
      },
      "source": [
        "# Hyperparameter Tuning"
      ]
    },
    {
      "cell_type": "markdown",
      "metadata": {
        "id": "llLp5vWgEbEk"
      },
      "source": [
        "## Decision Tree"
      ]
    },
    {
      "cell_type": "markdown",
      "metadata": {
        "id": "0oLef8ZXEbEk"
      },
      "source": [
        "1. Using Grid Search"
      ]
    },
    {
      "cell_type": "code",
      "execution_count": null,
      "metadata": {
        "colab": {
          "base_uri": "https://localhost:8080/"
        },
        "id": "uuumMlGS7prA",
        "outputId": "445e21ce-cc30-4276-83a4-32a41e2c47ab"
      },
      "outputs": [
        {
          "output_type": "stream",
          "name": "stdout",
          "text": [
            "{'max_depth': 10, 'max_features': None, 'min_samples_leaf': 1, 'min_samples_split': 2}\n"
          ]
        }
      ],
      "source": [
        "model=DecisionTreeClassifier()\n",
        "param_grid = {\n",
        "    'max_depth': [3, 5, 7, 10],  # None means no limit\n",
        "    'min_samples_split': [2, 5, 10],\n",
        "    'min_samples_leaf': [1, 2, 4],\n",
        "    'max_features': ['sqrt', 'log2',None],  # None means all features\n",
        "}\n",
        "grid_search = GridSearchCV(estimator=model, param_grid=param_grid, cv=3, scoring='accuracy')\n",
        "grid_search.fit(x_train, y_train)\n",
        "best_params = grid_search.best_params_\n",
        "print(best_params)"
      ]
    },
    {
      "cell_type": "markdown",
      "metadata": {
        "id": "U41VY43jEbEm"
      },
      "source": [
        "2. Using Random Search"
      ]
    },
    {
      "cell_type": "code",
      "execution_count": null,
      "metadata": {
        "colab": {
          "base_uri": "https://localhost:8080/"
        },
        "id": "cM-x_KEfEbEm",
        "outputId": "b1343531-6ab9-4015-e1bf-a065c8b527f4"
      },
      "outputs": [
        {
          "output_type": "stream",
          "name": "stdout",
          "text": [
            "{'min_samples_split': 5, 'min_samples_leaf': 4, 'max_features': None, 'max_depth': 10}\n"
          ]
        }
      ],
      "source": [
        "model= DecisionTreeClassifier()\n",
        "param_dist = {\n",
        "    'max_depth': [3, 5, 7, 10],  # None means no limit\n",
        "    'min_samples_split': [2, 5, 10],\n",
        "    'min_samples_leaf': [1, 2, 4],\n",
        "    'max_features': ['sqrt', 'log2',None]\n",
        "}\n",
        "\n",
        "# Randomized Search\n",
        "random_search = RandomizedSearchCV(\n",
        "    estimator=model,\n",
        "    param_distributions=param_dist,\n",
        "    n_iter=20,  # Number of random combinations to try\n",
        "    scoring='accuracy',  # Change based on your evaluation metric\n",
        "    cv=5,  # 5-fold cross-validation\n",
        "    random_state=42,\n",
        "    n_jobs=-1  # Use all available CPU cores\n",
        ")\n",
        "random_search.fit(x_train, y_train)\n",
        "\n",
        "# Get the best parameters after fitting the model\n",
        "best_params = random_search.best_params_\n",
        "print(best_params)"
      ]
    },
    {
      "cell_type": "code",
      "execution_count": null,
      "metadata": {
        "colab": {
          "base_uri": "https://localhost:8080/",
          "height": 80
        },
        "id": "yxWxQ2867prA",
        "outputId": "16cb06fb-e861-4d96-f0f8-7452e8326e6a"
      },
      "outputs": [
        {
          "output_type": "execute_result",
          "data": {
            "text/plain": [
              "DecisionTreeClassifier(max_depth=10, min_samples_leaf=4, min_samples_split=5)"
            ],
            "text/html": [
              "<style>#sk-container-id-9 {\n",
              "  /* Definition of color scheme common for light and dark mode */\n",
              "  --sklearn-color-text: #000;\n",
              "  --sklearn-color-text-muted: #666;\n",
              "  --sklearn-color-line: gray;\n",
              "  /* Definition of color scheme for unfitted estimators */\n",
              "  --sklearn-color-unfitted-level-0: #fff5e6;\n",
              "  --sklearn-color-unfitted-level-1: #f6e4d2;\n",
              "  --sklearn-color-unfitted-level-2: #ffe0b3;\n",
              "  --sklearn-color-unfitted-level-3: chocolate;\n",
              "  /* Definition of color scheme for fitted estimators */\n",
              "  --sklearn-color-fitted-level-0: #f0f8ff;\n",
              "  --sklearn-color-fitted-level-1: #d4ebff;\n",
              "  --sklearn-color-fitted-level-2: #b3dbfd;\n",
              "  --sklearn-color-fitted-level-3: cornflowerblue;\n",
              "\n",
              "  /* Specific color for light theme */\n",
              "  --sklearn-color-text-on-default-background: var(--sg-text-color, var(--theme-code-foreground, var(--jp-content-font-color1, black)));\n",
              "  --sklearn-color-background: var(--sg-background-color, var(--theme-background, var(--jp-layout-color0, white)));\n",
              "  --sklearn-color-border-box: var(--sg-text-color, var(--theme-code-foreground, var(--jp-content-font-color1, black)));\n",
              "  --sklearn-color-icon: #696969;\n",
              "\n",
              "  @media (prefers-color-scheme: dark) {\n",
              "    /* Redefinition of color scheme for dark theme */\n",
              "    --sklearn-color-text-on-default-background: var(--sg-text-color, var(--theme-code-foreground, var(--jp-content-font-color1, white)));\n",
              "    --sklearn-color-background: var(--sg-background-color, var(--theme-background, var(--jp-layout-color0, #111)));\n",
              "    --sklearn-color-border-box: var(--sg-text-color, var(--theme-code-foreground, var(--jp-content-font-color1, white)));\n",
              "    --sklearn-color-icon: #878787;\n",
              "  }\n",
              "}\n",
              "\n",
              "#sk-container-id-9 {\n",
              "  color: var(--sklearn-color-text);\n",
              "}\n",
              "\n",
              "#sk-container-id-9 pre {\n",
              "  padding: 0;\n",
              "}\n",
              "\n",
              "#sk-container-id-9 input.sk-hidden--visually {\n",
              "  border: 0;\n",
              "  clip: rect(1px 1px 1px 1px);\n",
              "  clip: rect(1px, 1px, 1px, 1px);\n",
              "  height: 1px;\n",
              "  margin: -1px;\n",
              "  overflow: hidden;\n",
              "  padding: 0;\n",
              "  position: absolute;\n",
              "  width: 1px;\n",
              "}\n",
              "\n",
              "#sk-container-id-9 div.sk-dashed-wrapped {\n",
              "  border: 1px dashed var(--sklearn-color-line);\n",
              "  margin: 0 0.4em 0.5em 0.4em;\n",
              "  box-sizing: border-box;\n",
              "  padding-bottom: 0.4em;\n",
              "  background-color: var(--sklearn-color-background);\n",
              "}\n",
              "\n",
              "#sk-container-id-9 div.sk-container {\n",
              "  /* jupyter's `normalize.less` sets `[hidden] { display: none; }`\n",
              "     but bootstrap.min.css set `[hidden] { display: none !important; }`\n",
              "     so we also need the `!important` here to be able to override the\n",
              "     default hidden behavior on the sphinx rendered scikit-learn.org.\n",
              "     See: https://github.com/scikit-learn/scikit-learn/issues/21755 */\n",
              "  display: inline-block !important;\n",
              "  position: relative;\n",
              "}\n",
              "\n",
              "#sk-container-id-9 div.sk-text-repr-fallback {\n",
              "  display: none;\n",
              "}\n",
              "\n",
              "div.sk-parallel-item,\n",
              "div.sk-serial,\n",
              "div.sk-item {\n",
              "  /* draw centered vertical line to link estimators */\n",
              "  background-image: linear-gradient(var(--sklearn-color-text-on-default-background), var(--sklearn-color-text-on-default-background));\n",
              "  background-size: 2px 100%;\n",
              "  background-repeat: no-repeat;\n",
              "  background-position: center center;\n",
              "}\n",
              "\n",
              "/* Parallel-specific style estimator block */\n",
              "\n",
              "#sk-container-id-9 div.sk-parallel-item::after {\n",
              "  content: \"\";\n",
              "  width: 100%;\n",
              "  border-bottom: 2px solid var(--sklearn-color-text-on-default-background);\n",
              "  flex-grow: 1;\n",
              "}\n",
              "\n",
              "#sk-container-id-9 div.sk-parallel {\n",
              "  display: flex;\n",
              "  align-items: stretch;\n",
              "  justify-content: center;\n",
              "  background-color: var(--sklearn-color-background);\n",
              "  position: relative;\n",
              "}\n",
              "\n",
              "#sk-container-id-9 div.sk-parallel-item {\n",
              "  display: flex;\n",
              "  flex-direction: column;\n",
              "}\n",
              "\n",
              "#sk-container-id-9 div.sk-parallel-item:first-child::after {\n",
              "  align-self: flex-end;\n",
              "  width: 50%;\n",
              "}\n",
              "\n",
              "#sk-container-id-9 div.sk-parallel-item:last-child::after {\n",
              "  align-self: flex-start;\n",
              "  width: 50%;\n",
              "}\n",
              "\n",
              "#sk-container-id-9 div.sk-parallel-item:only-child::after {\n",
              "  width: 0;\n",
              "}\n",
              "\n",
              "/* Serial-specific style estimator block */\n",
              "\n",
              "#sk-container-id-9 div.sk-serial {\n",
              "  display: flex;\n",
              "  flex-direction: column;\n",
              "  align-items: center;\n",
              "  background-color: var(--sklearn-color-background);\n",
              "  padding-right: 1em;\n",
              "  padding-left: 1em;\n",
              "}\n",
              "\n",
              "\n",
              "/* Toggleable style: style used for estimator/Pipeline/ColumnTransformer box that is\n",
              "clickable and can be expanded/collapsed.\n",
              "- Pipeline and ColumnTransformer use this feature and define the default style\n",
              "- Estimators will overwrite some part of the style using the `sk-estimator` class\n",
              "*/\n",
              "\n",
              "/* Pipeline and ColumnTransformer style (default) */\n",
              "\n",
              "#sk-container-id-9 div.sk-toggleable {\n",
              "  /* Default theme specific background. It is overwritten whether we have a\n",
              "  specific estimator or a Pipeline/ColumnTransformer */\n",
              "  background-color: var(--sklearn-color-background);\n",
              "}\n",
              "\n",
              "/* Toggleable label */\n",
              "#sk-container-id-9 label.sk-toggleable__label {\n",
              "  cursor: pointer;\n",
              "  display: flex;\n",
              "  width: 100%;\n",
              "  margin-bottom: 0;\n",
              "  padding: 0.5em;\n",
              "  box-sizing: border-box;\n",
              "  text-align: center;\n",
              "  align-items: start;\n",
              "  justify-content: space-between;\n",
              "  gap: 0.5em;\n",
              "}\n",
              "\n",
              "#sk-container-id-9 label.sk-toggleable__label .caption {\n",
              "  font-size: 0.6rem;\n",
              "  font-weight: lighter;\n",
              "  color: var(--sklearn-color-text-muted);\n",
              "}\n",
              "\n",
              "#sk-container-id-9 label.sk-toggleable__label-arrow:before {\n",
              "  /* Arrow on the left of the label */\n",
              "  content: \"▸\";\n",
              "  float: left;\n",
              "  margin-right: 0.25em;\n",
              "  color: var(--sklearn-color-icon);\n",
              "}\n",
              "\n",
              "#sk-container-id-9 label.sk-toggleable__label-arrow:hover:before {\n",
              "  color: var(--sklearn-color-text);\n",
              "}\n",
              "\n",
              "/* Toggleable content - dropdown */\n",
              "\n",
              "#sk-container-id-9 div.sk-toggleable__content {\n",
              "  max-height: 0;\n",
              "  max-width: 0;\n",
              "  overflow: hidden;\n",
              "  text-align: left;\n",
              "  /* unfitted */\n",
              "  background-color: var(--sklearn-color-unfitted-level-0);\n",
              "}\n",
              "\n",
              "#sk-container-id-9 div.sk-toggleable__content.fitted {\n",
              "  /* fitted */\n",
              "  background-color: var(--sklearn-color-fitted-level-0);\n",
              "}\n",
              "\n",
              "#sk-container-id-9 div.sk-toggleable__content pre {\n",
              "  margin: 0.2em;\n",
              "  border-radius: 0.25em;\n",
              "  color: var(--sklearn-color-text);\n",
              "  /* unfitted */\n",
              "  background-color: var(--sklearn-color-unfitted-level-0);\n",
              "}\n",
              "\n",
              "#sk-container-id-9 div.sk-toggleable__content.fitted pre {\n",
              "  /* unfitted */\n",
              "  background-color: var(--sklearn-color-fitted-level-0);\n",
              "}\n",
              "\n",
              "#sk-container-id-9 input.sk-toggleable__control:checked~div.sk-toggleable__content {\n",
              "  /* Expand drop-down */\n",
              "  max-height: 200px;\n",
              "  max-width: 100%;\n",
              "  overflow: auto;\n",
              "}\n",
              "\n",
              "#sk-container-id-9 input.sk-toggleable__control:checked~label.sk-toggleable__label-arrow:before {\n",
              "  content: \"▾\";\n",
              "}\n",
              "\n",
              "/* Pipeline/ColumnTransformer-specific style */\n",
              "\n",
              "#sk-container-id-9 div.sk-label input.sk-toggleable__control:checked~label.sk-toggleable__label {\n",
              "  color: var(--sklearn-color-text);\n",
              "  background-color: var(--sklearn-color-unfitted-level-2);\n",
              "}\n",
              "\n",
              "#sk-container-id-9 div.sk-label.fitted input.sk-toggleable__control:checked~label.sk-toggleable__label {\n",
              "  background-color: var(--sklearn-color-fitted-level-2);\n",
              "}\n",
              "\n",
              "/* Estimator-specific style */\n",
              "\n",
              "/* Colorize estimator box */\n",
              "#sk-container-id-9 div.sk-estimator input.sk-toggleable__control:checked~label.sk-toggleable__label {\n",
              "  /* unfitted */\n",
              "  background-color: var(--sklearn-color-unfitted-level-2);\n",
              "}\n",
              "\n",
              "#sk-container-id-9 div.sk-estimator.fitted input.sk-toggleable__control:checked~label.sk-toggleable__label {\n",
              "  /* fitted */\n",
              "  background-color: var(--sklearn-color-fitted-level-2);\n",
              "}\n",
              "\n",
              "#sk-container-id-9 div.sk-label label.sk-toggleable__label,\n",
              "#sk-container-id-9 div.sk-label label {\n",
              "  /* The background is the default theme color */\n",
              "  color: var(--sklearn-color-text-on-default-background);\n",
              "}\n",
              "\n",
              "/* On hover, darken the color of the background */\n",
              "#sk-container-id-9 div.sk-label:hover label.sk-toggleable__label {\n",
              "  color: var(--sklearn-color-text);\n",
              "  background-color: var(--sklearn-color-unfitted-level-2);\n",
              "}\n",
              "\n",
              "/* Label box, darken color on hover, fitted */\n",
              "#sk-container-id-9 div.sk-label.fitted:hover label.sk-toggleable__label.fitted {\n",
              "  color: var(--sklearn-color-text);\n",
              "  background-color: var(--sklearn-color-fitted-level-2);\n",
              "}\n",
              "\n",
              "/* Estimator label */\n",
              "\n",
              "#sk-container-id-9 div.sk-label label {\n",
              "  font-family: monospace;\n",
              "  font-weight: bold;\n",
              "  display: inline-block;\n",
              "  line-height: 1.2em;\n",
              "}\n",
              "\n",
              "#sk-container-id-9 div.sk-label-container {\n",
              "  text-align: center;\n",
              "}\n",
              "\n",
              "/* Estimator-specific */\n",
              "#sk-container-id-9 div.sk-estimator {\n",
              "  font-family: monospace;\n",
              "  border: 1px dotted var(--sklearn-color-border-box);\n",
              "  border-radius: 0.25em;\n",
              "  box-sizing: border-box;\n",
              "  margin-bottom: 0.5em;\n",
              "  /* unfitted */\n",
              "  background-color: var(--sklearn-color-unfitted-level-0);\n",
              "}\n",
              "\n",
              "#sk-container-id-9 div.sk-estimator.fitted {\n",
              "  /* fitted */\n",
              "  background-color: var(--sklearn-color-fitted-level-0);\n",
              "}\n",
              "\n",
              "/* on hover */\n",
              "#sk-container-id-9 div.sk-estimator:hover {\n",
              "  /* unfitted */\n",
              "  background-color: var(--sklearn-color-unfitted-level-2);\n",
              "}\n",
              "\n",
              "#sk-container-id-9 div.sk-estimator.fitted:hover {\n",
              "  /* fitted */\n",
              "  background-color: var(--sklearn-color-fitted-level-2);\n",
              "}\n",
              "\n",
              "/* Specification for estimator info (e.g. \"i\" and \"?\") */\n",
              "\n",
              "/* Common style for \"i\" and \"?\" */\n",
              "\n",
              ".sk-estimator-doc-link,\n",
              "a:link.sk-estimator-doc-link,\n",
              "a:visited.sk-estimator-doc-link {\n",
              "  float: right;\n",
              "  font-size: smaller;\n",
              "  line-height: 1em;\n",
              "  font-family: monospace;\n",
              "  background-color: var(--sklearn-color-background);\n",
              "  border-radius: 1em;\n",
              "  height: 1em;\n",
              "  width: 1em;\n",
              "  text-decoration: none !important;\n",
              "  margin-left: 0.5em;\n",
              "  text-align: center;\n",
              "  /* unfitted */\n",
              "  border: var(--sklearn-color-unfitted-level-1) 1pt solid;\n",
              "  color: var(--sklearn-color-unfitted-level-1);\n",
              "}\n",
              "\n",
              ".sk-estimator-doc-link.fitted,\n",
              "a:link.sk-estimator-doc-link.fitted,\n",
              "a:visited.sk-estimator-doc-link.fitted {\n",
              "  /* fitted */\n",
              "  border: var(--sklearn-color-fitted-level-1) 1pt solid;\n",
              "  color: var(--sklearn-color-fitted-level-1);\n",
              "}\n",
              "\n",
              "/* On hover */\n",
              "div.sk-estimator:hover .sk-estimator-doc-link:hover,\n",
              ".sk-estimator-doc-link:hover,\n",
              "div.sk-label-container:hover .sk-estimator-doc-link:hover,\n",
              ".sk-estimator-doc-link:hover {\n",
              "  /* unfitted */\n",
              "  background-color: var(--sklearn-color-unfitted-level-3);\n",
              "  color: var(--sklearn-color-background);\n",
              "  text-decoration: none;\n",
              "}\n",
              "\n",
              "div.sk-estimator.fitted:hover .sk-estimator-doc-link.fitted:hover,\n",
              ".sk-estimator-doc-link.fitted:hover,\n",
              "div.sk-label-container:hover .sk-estimator-doc-link.fitted:hover,\n",
              ".sk-estimator-doc-link.fitted:hover {\n",
              "  /* fitted */\n",
              "  background-color: var(--sklearn-color-fitted-level-3);\n",
              "  color: var(--sklearn-color-background);\n",
              "  text-decoration: none;\n",
              "}\n",
              "\n",
              "/* Span, style for the box shown on hovering the info icon */\n",
              ".sk-estimator-doc-link span {\n",
              "  display: none;\n",
              "  z-index: 9999;\n",
              "  position: relative;\n",
              "  font-weight: normal;\n",
              "  right: .2ex;\n",
              "  padding: .5ex;\n",
              "  margin: .5ex;\n",
              "  width: min-content;\n",
              "  min-width: 20ex;\n",
              "  max-width: 50ex;\n",
              "  color: var(--sklearn-color-text);\n",
              "  box-shadow: 2pt 2pt 4pt #999;\n",
              "  /* unfitted */\n",
              "  background: var(--sklearn-color-unfitted-level-0);\n",
              "  border: .5pt solid var(--sklearn-color-unfitted-level-3);\n",
              "}\n",
              "\n",
              ".sk-estimator-doc-link.fitted span {\n",
              "  /* fitted */\n",
              "  background: var(--sklearn-color-fitted-level-0);\n",
              "  border: var(--sklearn-color-fitted-level-3);\n",
              "}\n",
              "\n",
              ".sk-estimator-doc-link:hover span {\n",
              "  display: block;\n",
              "}\n",
              "\n",
              "/* \"?\"-specific style due to the `<a>` HTML tag */\n",
              "\n",
              "#sk-container-id-9 a.estimator_doc_link {\n",
              "  float: right;\n",
              "  font-size: 1rem;\n",
              "  line-height: 1em;\n",
              "  font-family: monospace;\n",
              "  background-color: var(--sklearn-color-background);\n",
              "  border-radius: 1rem;\n",
              "  height: 1rem;\n",
              "  width: 1rem;\n",
              "  text-decoration: none;\n",
              "  /* unfitted */\n",
              "  color: var(--sklearn-color-unfitted-level-1);\n",
              "  border: var(--sklearn-color-unfitted-level-1) 1pt solid;\n",
              "}\n",
              "\n",
              "#sk-container-id-9 a.estimator_doc_link.fitted {\n",
              "  /* fitted */\n",
              "  border: var(--sklearn-color-fitted-level-1) 1pt solid;\n",
              "  color: var(--sklearn-color-fitted-level-1);\n",
              "}\n",
              "\n",
              "/* On hover */\n",
              "#sk-container-id-9 a.estimator_doc_link:hover {\n",
              "  /* unfitted */\n",
              "  background-color: var(--sklearn-color-unfitted-level-3);\n",
              "  color: var(--sklearn-color-background);\n",
              "  text-decoration: none;\n",
              "}\n",
              "\n",
              "#sk-container-id-9 a.estimator_doc_link.fitted:hover {\n",
              "  /* fitted */\n",
              "  background-color: var(--sklearn-color-fitted-level-3);\n",
              "}\n",
              "</style><div id=\"sk-container-id-9\" class=\"sk-top-container\"><div class=\"sk-text-repr-fallback\"><pre>DecisionTreeClassifier(max_depth=10, min_samples_leaf=4, min_samples_split=5)</pre><b>In a Jupyter environment, please rerun this cell to show the HTML representation or trust the notebook. <br />On GitHub, the HTML representation is unable to render, please try loading this page with nbviewer.org.</b></div><div class=\"sk-container\" hidden><div class=\"sk-item\"><div class=\"sk-estimator fitted sk-toggleable\"><input class=\"sk-toggleable__control sk-hidden--visually\" id=\"sk-estimator-id-9\" type=\"checkbox\" checked><label for=\"sk-estimator-id-9\" class=\"sk-toggleable__label fitted sk-toggleable__label-arrow\"><div><div>DecisionTreeClassifier</div></div><div><a class=\"sk-estimator-doc-link fitted\" rel=\"noreferrer\" target=\"_blank\" href=\"https://scikit-learn.org/1.6/modules/generated/sklearn.tree.DecisionTreeClassifier.html\">?<span>Documentation for DecisionTreeClassifier</span></a><span class=\"sk-estimator-doc-link fitted\">i<span>Fitted</span></span></div></label><div class=\"sk-toggleable__content fitted\"><pre>DecisionTreeClassifier(max_depth=10, min_samples_leaf=4, min_samples_split=5)</pre></div> </div></div></div></div>"
            ]
          },
          "metadata": {},
          "execution_count": 73
        }
      ],
      "source": [
        "model = DecisionTreeClassifier(**best_params)\n",
        "model.fit(x_train, y_train)\n"
      ]
    },
    {
      "cell_type": "markdown",
      "metadata": {
        "id": "3OWHHKRX7prA"
      },
      "source": [
        "## Evaluating the model after tuning"
      ]
    },
    {
      "cell_type": "code",
      "execution_count": null,
      "metadata": {
        "colab": {
          "base_uri": "https://localhost:8080/"
        },
        "id": "3oai949r7prA",
        "outputId": "587d381f-b672-4b06-bcf4-076cdf186942"
      },
      "outputs": [
        {
          "output_type": "stream",
          "name": "stdout",
          "text": [
            "Test Accuracy: 0.8496868475991649\n",
            "Precision: 0.8518659693833707\n",
            "Recall: 0.8559517824223707\n",
            "F1 Score: 0.8537512370354786\n",
            "[[229  23   0]\n",
            " [ 22 365  55]\n",
            " [  1  43 220]]\n"
          ]
        }
      ],
      "source": [
        "y_pred=model.predict(x_test)\n",
        "accuracy = accuracy_score(y_test, y_pred)\n",
        "print(f'Test Accuracy: {accuracy}')\n",
        "precision = precision_score(y_test, y_pred, average='macro')\n",
        "print(f'Precision: {precision}')\n",
        "recall = recall_score(y_test, y_pred, average='macro')\n",
        "print(f'Recall: {recall}')\n",
        "f1 = f1_score(y_test, y_pred, average='macro')\n",
        "print(f'F1 Score: {f1}')\n",
        "conf_matrix = confusion_matrix(y_test, y_pred)\n",
        "print(conf_matrix)"
      ]
    },
    {
      "cell_type": "code",
      "execution_count": null,
      "metadata": {
        "colab": {
          "base_uri": "https://localhost:8080/"
        },
        "id": "zyEU4j1O7prA",
        "outputId": "d46a73b0-d11f-4a2d-a58f-a3c0be27c846"
      },
      "outputs": [
        {
          "output_type": "stream",
          "name": "stdout",
          "text": [
            "Train Accuracy: 0.920594262295082\n"
          ]
        }
      ],
      "source": [
        "y_train_pred = model.predict(x_train)\n",
        "train_set_accuracy = accuracy_score(y_train, y_train_pred)\n",
        "print(f\"Train Accuracy: {train_set_accuracy}\")"
      ]
    },
    {
      "cell_type": "markdown",
      "metadata": {
        "id": "u5axtrZyEbEm"
      },
      "source": [
        "## SVM"
      ]
    },
    {
      "cell_type": "markdown",
      "source": [
        "1. Using grid search"
      ],
      "metadata": {
        "id": "IA6nNpEAAclu"
      }
    },
    {
      "cell_type": "code",
      "execution_count": null,
      "metadata": {
        "id": "tzyeXBFqEbEm",
        "outputId": "fd61ed87-b405-4797-90c4-ef15f914aa39"
      },
      "outputs": [
        {
          "name": "stdout",
          "output_type": "stream",
          "text": [
            "{'C': 100, 'gamma': 0.01, 'kernel': 'rbf'}\n"
          ]
        }
      ],
      "source": [
        "model=SVC()\n",
        "param_grid = {\n",
        "    'C': [0.1, 1, 10, 100],\n",
        "    'kernel': ['rbf','linear','poly'],\n",
        "    'gamma': ['scale', 'auto', 0.01, 0.1, 1],\n",
        "}\n",
        "grid_search = GridSearchCV(estimator=model, param_grid=param_grid, cv=3, scoring='accuracy')\n",
        "grid_search.fit(x_train, y_train)\n",
        "best_params = grid_search.best_params_\n",
        "print(best_params)"
      ]
    },
    {
      "cell_type": "markdown",
      "source": [
        "2. Using random search"
      ],
      "metadata": {
        "id": "-DWBAjXwAlMP"
      }
    },
    {
      "cell_type": "code",
      "execution_count": null,
      "metadata": {
        "colab": {
          "base_uri": "https://localhost:8080/"
        },
        "id": "_Fb9-XgyEbEn",
        "outputId": "d0ac3bcd-87fc-4344-f5b6-afc0b21987de"
      },
      "outputs": [
        {
          "output_type": "stream",
          "name": "stdout",
          "text": [
            "Train Accuracy: 0.9616087751371115\n"
          ]
        }
      ],
      "source": [
        "y_train_pred = model.predict(x_train)\n",
        "train_set_accuracy = accuracy_score(y_train, y_train_pred)\n",
        "print(f\"Train Accuracy: {train_set_accuracy}\")"
      ]
    },
    {
      "cell_type": "markdown",
      "metadata": {
        "id": "JTebdLbkEbEn"
      },
      "source": [
        "## Feed Forward Neural Network"
      ]
    },
    {
      "cell_type": "code",
      "execution_count": null,
      "metadata": {
        "id": "-chD45hkEbEn"
      },
      "outputs": [],
      "source": [
        "!export TF_ENABLE_ONEDNN_OPTS=0"
      ]
    },
    {
      "cell_type": "code",
      "execution_count": null,
      "metadata": {
        "colab": {
          "base_uri": "https://localhost:8080/"
        },
        "id": "f7PCqSipEbEn",
        "outputId": "1dc222f7-8dc7-45a9-a9d3-b739bfa6ba20"
      },
      "outputs": [
        {
          "output_type": "stream",
          "name": "stderr",
          "text": [
            "/usr/local/lib/python3.11/dist-packages/keras/src/layers/core/dense.py:87: UserWarning: Do not pass an `input_shape`/`input_dim` argument to a layer. When using Sequential models, prefer using an `Input(shape)` object as the first layer in the model instead.\n",
            "  super().__init__(activity_regularizer=activity_regularizer, **kwargs)\n"
          ]
        }
      ],
      "source": [
        "\n",
        "import tensorflow as tf\n",
        "from tensorflow.keras import layers, models\n",
        "model = models.Sequential([\n",
        "    layers.Dense(26, activation='relu', input_shape=(x_train.shape[1],)),\n",
        "    layers.Dropout(0.3),  # To prevent overfitting\n",
        "    layers.Dense(32, activation='relu'),\n",
        "    layers.Dropout(0.3),\n",
        "    layers.Dense(len(set(y)), activation='softmax')  # Output layer\n",
        "])\n"
      ]
    },
    {
      "cell_type": "code",
      "execution_count": null,
      "metadata": {
        "id": "CNtWDQe1EbEn"
      },
      "outputs": [],
      "source": [
        "model.compile(optimizer='adam',\n",
        "              loss='sparse_categorical_crossentropy',\n",
        "              metrics=['accuracy'])\n"
      ]
    },
    {
      "cell_type": "code",
      "execution_count": null,
      "metadata": {
        "colab": {
          "base_uri": "https://localhost:8080/"
        },
        "id": "43pWAOl9EbEn",
        "outputId": "09113b27-d992-4e00-8a11-2569b42baabf"
      },
      "outputs": [
        {
          "output_type": "stream",
          "name": "stdout",
          "text": [
            "Epoch 1/100\n",
            "\u001b[1m147/147\u001b[0m \u001b[32m━━━━━━━━━━━━━━━━━━━━\u001b[0m\u001b[37m\u001b[0m \u001b[1m2s\u001b[0m 5ms/step - accuracy: 0.4338 - loss: 1.4479 - val_accuracy: 0.5990 - val_loss: 0.7480\n",
            "Epoch 2/100\n",
            "\u001b[1m147/147\u001b[0m \u001b[32m━━━━━━━━━━━━━━━━━━━━\u001b[0m\u001b[37m\u001b[0m \u001b[1m0s\u001b[0m 3ms/step - accuracy: 0.7159 - loss: 0.6211 - val_accuracy: 0.8387 - val_loss: 0.4802\n",
            "Epoch 3/100\n",
            "\u001b[1m147/147\u001b[0m \u001b[32m━━━━━━━━━━━━━━━━━━━━\u001b[0m\u001b[37m\u001b[0m \u001b[1m1s\u001b[0m 3ms/step - accuracy: 0.7982 - loss: 0.4591 - val_accuracy: 0.8524 - val_loss: 0.4114\n",
            "Epoch 4/100\n",
            "\u001b[1m147/147\u001b[0m \u001b[32m━━━━━━━━━━━━━━━━━━━━\u001b[0m\u001b[37m\u001b[0m \u001b[1m1s\u001b[0m 3ms/step - accuracy: 0.8349 - loss: 0.3852 - val_accuracy: 0.8763 - val_loss: 0.3633\n",
            "Epoch 5/100\n",
            "\u001b[1m147/147\u001b[0m \u001b[32m━━━━━━━━━━━━━━━━━━━━\u001b[0m\u001b[37m\u001b[0m \u001b[1m1s\u001b[0m 3ms/step - accuracy: 0.8588 - loss: 0.3277 - val_accuracy: 0.8788 - val_loss: 0.3255\n",
            "Epoch 6/100\n",
            "\u001b[1m147/147\u001b[0m \u001b[32m━━━━━━━━━━━━━━━━━━━━\u001b[0m\u001b[37m\u001b[0m \u001b[1m1s\u001b[0m 4ms/step - accuracy: 0.8762 - loss: 0.3088 - val_accuracy: 0.9249 - val_loss: 0.2174\n",
            "Epoch 7/100\n",
            "\u001b[1m147/147\u001b[0m \u001b[32m━━━━━━━━━━━━━━━━━━━━\u001b[0m\u001b[37m\u001b[0m \u001b[1m1s\u001b[0m 3ms/step - accuracy: 0.8910 - loss: 0.2679 - val_accuracy: 0.9113 - val_loss: 0.2284\n",
            "Epoch 8/100\n",
            "\u001b[1m147/147\u001b[0m \u001b[32m━━━━━━━━━━━━━━━━━━━━\u001b[0m\u001b[37m\u001b[0m \u001b[1m1s\u001b[0m 4ms/step - accuracy: 0.8990 - loss: 0.2360 - val_accuracy: 0.8857 - val_loss: 0.2681\n",
            "Epoch 9/100\n",
            "\u001b[1m147/147\u001b[0m \u001b[32m━━━━━━━━━━━━━━━━━━━━\u001b[0m\u001b[37m\u001b[0m \u001b[1m1s\u001b[0m 3ms/step - accuracy: 0.9089 - loss: 0.2298 - val_accuracy: 0.8831 - val_loss: 0.2644\n",
            "Epoch 10/100\n",
            "\u001b[1m147/147\u001b[0m \u001b[32m━━━━━━━━━━━━━━━━━━━━\u001b[0m\u001b[37m\u001b[0m \u001b[1m1s\u001b[0m 4ms/step - accuracy: 0.9158 - loss: 0.2154 - val_accuracy: 0.8763 - val_loss: 0.2805\n",
            "Epoch 11/100\n",
            "\u001b[1m147/147\u001b[0m \u001b[32m━━━━━━━━━━━━━━━━━━━━\u001b[0m\u001b[37m\u001b[0m \u001b[1m1s\u001b[0m 4ms/step - accuracy: 0.9246 - loss: 0.1983 - val_accuracy: 0.8771 - val_loss: 0.2905\n",
            "Epoch 12/100\n",
            "\u001b[1m147/147\u001b[0m \u001b[32m━━━━━━━━━━━━━━━━━━━━\u001b[0m\u001b[37m\u001b[0m \u001b[1m1s\u001b[0m 4ms/step - accuracy: 0.9279 - loss: 0.1901 - val_accuracy: 0.8788 - val_loss: 0.2655\n",
            "Epoch 13/100\n",
            "\u001b[1m147/147\u001b[0m \u001b[32m━━━━━━━━━━━━━━━━━━━━\u001b[0m\u001b[37m\u001b[0m \u001b[1m1s\u001b[0m 5ms/step - accuracy: 0.9295 - loss: 0.1837 - val_accuracy: 0.8532 - val_loss: 0.3125\n",
            "Epoch 14/100\n",
            "\u001b[1m147/147\u001b[0m \u001b[32m━━━━━━━━━━━━━━━━━━━━\u001b[0m\u001b[37m\u001b[0m \u001b[1m1s\u001b[0m 7ms/step - accuracy: 0.9353 - loss: 0.1754 - val_accuracy: 0.8677 - val_loss: 0.3078\n",
            "Epoch 15/100\n",
            "\u001b[1m147/147\u001b[0m \u001b[32m━━━━━━━━━━━━━━━━━━━━\u001b[0m\u001b[37m\u001b[0m \u001b[1m1s\u001b[0m 4ms/step - accuracy: 0.9274 - loss: 0.1782 - val_accuracy: 0.8720 - val_loss: 0.2993\n",
            "Epoch 16/100\n",
            "\u001b[1m147/147\u001b[0m \u001b[32m━━━━━━━━━━━━━━━━━━━━\u001b[0m\u001b[37m\u001b[0m \u001b[1m1s\u001b[0m 4ms/step - accuracy: 0.9280 - loss: 0.1880 - val_accuracy: 0.8643 - val_loss: 0.3122\n",
            "Epoch 17/100\n",
            "\u001b[1m147/147\u001b[0m \u001b[32m━━━━━━━━━━━━━━━━━━━━\u001b[0m\u001b[37m\u001b[0m \u001b[1m1s\u001b[0m 3ms/step - accuracy: 0.9336 - loss: 0.1757 - val_accuracy: 0.8754 - val_loss: 0.2930\n",
            "Epoch 18/100\n",
            "\u001b[1m147/147\u001b[0m \u001b[32m━━━━━━━━━━━━━━━━━━━━\u001b[0m\u001b[37m\u001b[0m \u001b[1m1s\u001b[0m 4ms/step - accuracy: 0.9233 - loss: 0.1887 - val_accuracy: 0.8729 - val_loss: 0.3016\n",
            "Epoch 19/100\n",
            "\u001b[1m147/147\u001b[0m \u001b[32m━━━━━━━━━━━━━━━━━━━━\u001b[0m\u001b[37m\u001b[0m \u001b[1m1s\u001b[0m 3ms/step - accuracy: 0.9345 - loss: 0.1720 - val_accuracy: 0.8882 - val_loss: 0.2521\n",
            "Epoch 20/100\n",
            "\u001b[1m147/147\u001b[0m \u001b[32m━━━━━━━━━━━━━━━━━━━━\u001b[0m\u001b[37m\u001b[0m \u001b[1m1s\u001b[0m 3ms/step - accuracy: 0.9440 - loss: 0.1572 - val_accuracy: 0.8635 - val_loss: 0.3301\n",
            "Epoch 21/100\n",
            "\u001b[1m147/147\u001b[0m \u001b[32m━━━━━━━━━━━━━━━━━━━━\u001b[0m\u001b[37m\u001b[0m \u001b[1m0s\u001b[0m 3ms/step - accuracy: 0.9344 - loss: 0.1630 - val_accuracy: 0.8891 - val_loss: 0.2644\n",
            "Epoch 22/100\n",
            "\u001b[1m147/147\u001b[0m \u001b[32m━━━━━━━━━━━━━━━━━━━━\u001b[0m\u001b[37m\u001b[0m \u001b[1m1s\u001b[0m 3ms/step - accuracy: 0.9403 - loss: 0.1578 - val_accuracy: 0.8831 - val_loss: 0.2796\n",
            "Epoch 23/100\n",
            "\u001b[1m147/147\u001b[0m \u001b[32m━━━━━━━━━━━━━━━━━━━━\u001b[0m\u001b[37m\u001b[0m \u001b[1m1s\u001b[0m 3ms/step - accuracy: 0.9377 - loss: 0.1651 - val_accuracy: 0.8729 - val_loss: 0.3006\n",
            "Epoch 24/100\n",
            "\u001b[1m147/147\u001b[0m \u001b[32m━━━━━━━━━━━━━━━━━━━━\u001b[0m\u001b[37m\u001b[0m \u001b[1m1s\u001b[0m 3ms/step - accuracy: 0.9443 - loss: 0.1511 - val_accuracy: 0.8652 - val_loss: 0.3284\n",
            "Epoch 25/100\n",
            "\u001b[1m147/147\u001b[0m \u001b[32m━━━━━━━━━━━━━━━━━━━━\u001b[0m\u001b[37m\u001b[0m \u001b[1m0s\u001b[0m 3ms/step - accuracy: 0.9289 - loss: 0.1676 - val_accuracy: 0.8370 - val_loss: 0.3978\n",
            "Epoch 26/100\n",
            "\u001b[1m147/147\u001b[0m \u001b[32m━━━━━━━━━━━━━━━━━━━━\u001b[0m\u001b[37m\u001b[0m \u001b[1m1s\u001b[0m 3ms/step - accuracy: 0.9476 - loss: 0.1503 - val_accuracy: 0.8558 - val_loss: 0.3624\n",
            "Epoch 27/100\n",
            "\u001b[1m147/147\u001b[0m \u001b[32m━━━━━━━━━━━━━━━━━━━━\u001b[0m\u001b[37m\u001b[0m \u001b[1m1s\u001b[0m 3ms/step - accuracy: 0.9444 - loss: 0.1413 - val_accuracy: 0.8848 - val_loss: 0.2669\n",
            "Epoch 28/100\n",
            "\u001b[1m147/147\u001b[0m \u001b[32m━━━━━━━━━━━━━━━━━━━━\u001b[0m\u001b[37m\u001b[0m \u001b[1m1s\u001b[0m 4ms/step - accuracy: 0.9476 - loss: 0.1443 - val_accuracy: 0.8584 - val_loss: 0.3135\n",
            "Epoch 29/100\n",
            "\u001b[1m147/147\u001b[0m \u001b[32m━━━━━━━━━━━━━━━━━━━━\u001b[0m\u001b[37m\u001b[0m \u001b[1m1s\u001b[0m 4ms/step - accuracy: 0.9426 - loss: 0.1503 - val_accuracy: 0.8592 - val_loss: 0.3280\n",
            "Epoch 30/100\n",
            "\u001b[1m147/147\u001b[0m \u001b[32m━━━━━━━━━━━━━━━━━━━━\u001b[0m\u001b[37m\u001b[0m \u001b[1m1s\u001b[0m 3ms/step - accuracy: 0.9483 - loss: 0.1316 - val_accuracy: 0.8729 - val_loss: 0.3034\n",
            "Epoch 31/100\n",
            "\u001b[1m147/147\u001b[0m \u001b[32m━━━━━━━━━━━━━━━━━━━━\u001b[0m\u001b[37m\u001b[0m \u001b[1m1s\u001b[0m 5ms/step - accuracy: 0.9504 - loss: 0.1373 - val_accuracy: 0.8592 - val_loss: 0.3264\n",
            "Epoch 32/100\n",
            "\u001b[1m147/147\u001b[0m \u001b[32m━━━━━━━━━━━━━━━━━━━━\u001b[0m\u001b[37m\u001b[0m \u001b[1m1s\u001b[0m 5ms/step - accuracy: 0.9387 - loss: 0.1530 - val_accuracy: 0.8396 - val_loss: 0.4130\n",
            "Epoch 33/100\n",
            "\u001b[1m147/147\u001b[0m \u001b[32m━━━━━━━━━━━━━━━━━━━━\u001b[0m\u001b[37m\u001b[0m \u001b[1m1s\u001b[0m 4ms/step - accuracy: 0.9465 - loss: 0.1366 - val_accuracy: 0.8720 - val_loss: 0.3235\n",
            "Epoch 34/100\n",
            "\u001b[1m147/147\u001b[0m \u001b[32m━━━━━━━━━━━━━━━━━━━━\u001b[0m\u001b[37m\u001b[0m \u001b[1m1s\u001b[0m 3ms/step - accuracy: 0.9439 - loss: 0.1449 - val_accuracy: 0.8797 - val_loss: 0.2946\n",
            "Epoch 35/100\n",
            "\u001b[1m147/147\u001b[0m \u001b[32m━━━━━━━━━━━━━━━━━━━━\u001b[0m\u001b[37m\u001b[0m \u001b[1m1s\u001b[0m 3ms/step - accuracy: 0.9438 - loss: 0.1425 - val_accuracy: 0.8831 - val_loss: 0.2835\n",
            "Epoch 36/100\n",
            "\u001b[1m147/147\u001b[0m \u001b[32m━━━━━━━━━━━━━━━━━━━━\u001b[0m\u001b[37m\u001b[0m \u001b[1m1s\u001b[0m 4ms/step - accuracy: 0.9472 - loss: 0.1363 - val_accuracy: 0.8626 - val_loss: 0.3342\n",
            "Epoch 37/100\n",
            "\u001b[1m147/147\u001b[0m \u001b[32m━━━━━━━━━━━━━━━━━━━━\u001b[0m\u001b[37m\u001b[0m \u001b[1m1s\u001b[0m 3ms/step - accuracy: 0.9460 - loss: 0.1411 - val_accuracy: 0.8413 - val_loss: 0.3731\n",
            "Epoch 38/100\n",
            "\u001b[1m147/147\u001b[0m \u001b[32m━━━━━━━━━━━━━━━━━━━━\u001b[0m\u001b[37m\u001b[0m \u001b[1m1s\u001b[0m 3ms/step - accuracy: 0.9499 - loss: 0.1279 - val_accuracy: 0.8831 - val_loss: 0.3026\n",
            "Epoch 39/100\n",
            "\u001b[1m147/147\u001b[0m \u001b[32m━━━━━━━━━━━━━━━━━━━━\u001b[0m\u001b[37m\u001b[0m \u001b[1m1s\u001b[0m 3ms/step - accuracy: 0.9522 - loss: 0.1314 - val_accuracy: 0.8439 - val_loss: 0.3704\n",
            "Epoch 40/100\n",
            "\u001b[1m147/147\u001b[0m \u001b[32m━━━━━━━━━━━━━━━━━━━━\u001b[0m\u001b[37m\u001b[0m \u001b[1m1s\u001b[0m 3ms/step - accuracy: 0.9411 - loss: 0.1330 - val_accuracy: 0.8771 - val_loss: 0.2983\n",
            "Epoch 41/100\n",
            "\u001b[1m147/147\u001b[0m \u001b[32m━━━━━━━━━━━━━━━━━━━━\u001b[0m\u001b[37m\u001b[0m \u001b[1m0s\u001b[0m 3ms/step - accuracy: 0.9494 - loss: 0.1262 - val_accuracy: 0.8712 - val_loss: 0.3106\n",
            "Epoch 42/100\n",
            "\u001b[1m147/147\u001b[0m \u001b[32m━━━━━━━━━━━━━━━━━━━━\u001b[0m\u001b[37m\u001b[0m \u001b[1m1s\u001b[0m 3ms/step - accuracy: 0.9480 - loss: 0.1377 - val_accuracy: 0.8567 - val_loss: 0.3420\n",
            "Epoch 43/100\n",
            "\u001b[1m147/147\u001b[0m \u001b[32m━━━━━━━━━━━━━━━━━━━━\u001b[0m\u001b[37m\u001b[0m \u001b[1m1s\u001b[0m 3ms/step - accuracy: 0.9439 - loss: 0.1476 - val_accuracy: 0.8805 - val_loss: 0.2918\n",
            "Epoch 44/100\n",
            "\u001b[1m147/147\u001b[0m \u001b[32m━━━━━━━━━━━━━━━━━━━━\u001b[0m\u001b[37m\u001b[0m \u001b[1m1s\u001b[0m 3ms/step - accuracy: 0.9470 - loss: 0.1301 - val_accuracy: 0.8712 - val_loss: 0.3256\n",
            "Epoch 45/100\n",
            "\u001b[1m147/147\u001b[0m \u001b[32m━━━━━━━━━━━━━━━━━━━━\u001b[0m\u001b[37m\u001b[0m \u001b[1m1s\u001b[0m 3ms/step - accuracy: 0.9529 - loss: 0.1258 - val_accuracy: 0.8677 - val_loss: 0.3204\n",
            "Epoch 46/100\n",
            "\u001b[1m147/147\u001b[0m \u001b[32m━━━━━━━━━━━━━━━━━━━━\u001b[0m\u001b[37m\u001b[0m \u001b[1m1s\u001b[0m 4ms/step - accuracy: 0.9447 - loss: 0.1370 - val_accuracy: 0.8788 - val_loss: 0.2884\n",
            "Epoch 47/100\n",
            "\u001b[1m147/147\u001b[0m \u001b[32m━━━━━━━━━━━━━━━━━━━━\u001b[0m\u001b[37m\u001b[0m \u001b[1m1s\u001b[0m 4ms/step - accuracy: 0.9445 - loss: 0.1380 - val_accuracy: 0.8720 - val_loss: 0.3354\n",
            "Epoch 48/100\n",
            "\u001b[1m147/147\u001b[0m \u001b[32m━━━━━━━━━━━━━━━━━━━━\u001b[0m\u001b[37m\u001b[0m \u001b[1m1s\u001b[0m 4ms/step - accuracy: 0.9460 - loss: 0.1336 - val_accuracy: 0.8686 - val_loss: 0.3239\n",
            "Epoch 49/100\n",
            "\u001b[1m147/147\u001b[0m \u001b[32m━━━━━━━━━━━━━━━━━━━━\u001b[0m\u001b[37m\u001b[0m \u001b[1m1s\u001b[0m 4ms/step - accuracy: 0.9471 - loss: 0.1345 - val_accuracy: 0.8660 - val_loss: 0.3447\n",
            "Epoch 50/100\n",
            "\u001b[1m147/147\u001b[0m \u001b[32m━━━━━━━━━━━━━━━━━━━━\u001b[0m\u001b[37m\u001b[0m \u001b[1m1s\u001b[0m 6ms/step - accuracy: 0.9422 - loss: 0.1415 - val_accuracy: 0.8609 - val_loss: 0.3434\n",
            "Epoch 51/100\n",
            "\u001b[1m147/147\u001b[0m \u001b[32m━━━━━━━━━━━━━━━━━━━━\u001b[0m\u001b[37m\u001b[0m \u001b[1m1s\u001b[0m 5ms/step - accuracy: 0.9470 - loss: 0.1270 - val_accuracy: 0.8302 - val_loss: 0.4179\n",
            "Epoch 52/100\n",
            "\u001b[1m147/147\u001b[0m \u001b[32m━━━━━━━━━━━━━━━━━━━━\u001b[0m\u001b[37m\u001b[0m \u001b[1m1s\u001b[0m 3ms/step - accuracy: 0.9471 - loss: 0.1328 - val_accuracy: 0.8712 - val_loss: 0.3125\n",
            "Epoch 53/100\n",
            "\u001b[1m147/147\u001b[0m \u001b[32m━━━━━━━━━━━━━━━━━━━━\u001b[0m\u001b[37m\u001b[0m \u001b[1m1s\u001b[0m 3ms/step - accuracy: 0.9443 - loss: 0.1247 - val_accuracy: 0.8737 - val_loss: 0.3398\n",
            "Epoch 54/100\n",
            "\u001b[1m147/147\u001b[0m \u001b[32m━━━━━━━━━━━━━━━━━━━━\u001b[0m\u001b[37m\u001b[0m \u001b[1m1s\u001b[0m 4ms/step - accuracy: 0.9521 - loss: 0.1293 - val_accuracy: 0.8601 - val_loss: 0.3230\n",
            "Epoch 55/100\n",
            "\u001b[1m147/147\u001b[0m \u001b[32m━━━━━━━━━━━━━━━━━━━━\u001b[0m\u001b[37m\u001b[0m \u001b[1m1s\u001b[0m 4ms/step - accuracy: 0.9460 - loss: 0.1410 - val_accuracy: 0.8686 - val_loss: 0.3169\n",
            "Epoch 56/100\n",
            "\u001b[1m147/147\u001b[0m \u001b[32m━━━━━━━━━━━━━━━━━━━━\u001b[0m\u001b[37m\u001b[0m \u001b[1m1s\u001b[0m 3ms/step - accuracy: 0.9523 - loss: 0.1197 - val_accuracy: 0.8737 - val_loss: 0.3341\n",
            "Epoch 57/100\n",
            "\u001b[1m147/147\u001b[0m \u001b[32m━━━━━━━━━━━━━━━━━━━━\u001b[0m\u001b[37m\u001b[0m \u001b[1m1s\u001b[0m 3ms/step - accuracy: 0.9439 - loss: 0.1367 - val_accuracy: 0.8823 - val_loss: 0.3138\n",
            "Epoch 58/100\n",
            "\u001b[1m147/147\u001b[0m \u001b[32m━━━━━━━━━━━━━━━━━━━━\u001b[0m\u001b[37m\u001b[0m \u001b[1m1s\u001b[0m 3ms/step - accuracy: 0.9447 - loss: 0.1315 - val_accuracy: 0.8319 - val_loss: 0.4758\n",
            "Epoch 59/100\n",
            "\u001b[1m147/147\u001b[0m \u001b[32m━━━━━━━━━━━━━━━━━━━━\u001b[0m\u001b[37m\u001b[0m \u001b[1m1s\u001b[0m 4ms/step - accuracy: 0.9508 - loss: 0.1289 - val_accuracy: 0.8584 - val_loss: 0.3653\n",
            "Epoch 60/100\n",
            "\u001b[1m147/147\u001b[0m \u001b[32m━━━━━━━━━━━━━━━━━━━━\u001b[0m\u001b[37m\u001b[0m \u001b[1m0s\u001b[0m 3ms/step - accuracy: 0.9476 - loss: 0.1359 - val_accuracy: 0.8541 - val_loss: 0.3597\n",
            "Epoch 61/100\n",
            "\u001b[1m147/147\u001b[0m \u001b[32m━━━━━━━━━━━━━━━━━━━━\u001b[0m\u001b[37m\u001b[0m \u001b[1m1s\u001b[0m 3ms/step - accuracy: 0.9434 - loss: 0.1311 - val_accuracy: 0.8712 - val_loss: 0.3224\n",
            "Epoch 62/100\n",
            "\u001b[1m147/147\u001b[0m \u001b[32m━━━━━━━━━━━━━━━━━━━━\u001b[0m\u001b[37m\u001b[0m \u001b[1m1s\u001b[0m 3ms/step - accuracy: 0.9500 - loss: 0.1234 - val_accuracy: 0.8592 - val_loss: 0.3597\n",
            "Epoch 63/100\n",
            "\u001b[1m147/147\u001b[0m \u001b[32m━━━━━━━━━━━━━━━━━━━━\u001b[0m\u001b[37m\u001b[0m \u001b[1m1s\u001b[0m 3ms/step - accuracy: 0.9433 - loss: 0.1331 - val_accuracy: 0.8618 - val_loss: 0.3646\n",
            "Epoch 64/100\n",
            "\u001b[1m147/147\u001b[0m \u001b[32m━━━━━━━━━━━━━━━━━━━━\u001b[0m\u001b[37m\u001b[0m \u001b[1m1s\u001b[0m 4ms/step - accuracy: 0.9535 - loss: 0.1168 - val_accuracy: 0.8532 - val_loss: 0.3490\n",
            "Epoch 65/100\n",
            "\u001b[1m147/147\u001b[0m \u001b[32m━━━━━━━━━━━━━━━━━━━━\u001b[0m\u001b[37m\u001b[0m \u001b[1m0s\u001b[0m 3ms/step - accuracy: 0.9508 - loss: 0.1301 - val_accuracy: 0.8575 - val_loss: 0.3561\n",
            "Epoch 66/100\n",
            "\u001b[1m147/147\u001b[0m \u001b[32m━━━━━━━━━━━━━━━━━━━━\u001b[0m\u001b[37m\u001b[0m \u001b[1m1s\u001b[0m 5ms/step - accuracy: 0.9530 - loss: 0.1276 - val_accuracy: 0.8643 - val_loss: 0.3422\n",
            "Epoch 67/100\n",
            "\u001b[1m147/147\u001b[0m \u001b[32m━━━━━━━━━━━━━━━━━━━━\u001b[0m\u001b[37m\u001b[0m \u001b[1m3s\u001b[0m 13ms/step - accuracy: 0.9518 - loss: 0.1186 - val_accuracy: 0.8626 - val_loss: 0.3221\n",
            "Epoch 68/100\n",
            "\u001b[1m147/147\u001b[0m \u001b[32m━━━━━━━━━━━━━━━━━━━━\u001b[0m\u001b[37m\u001b[0m \u001b[1m2s\u001b[0m 9ms/step - accuracy: 0.9457 - loss: 0.1268 - val_accuracy: 0.8823 - val_loss: 0.3169\n",
            "Epoch 69/100\n",
            "\u001b[1m147/147\u001b[0m \u001b[32m━━━━━━━━━━━━━━━━━━━━\u001b[0m\u001b[37m\u001b[0m \u001b[1m2s\u001b[0m 7ms/step - accuracy: 0.9496 - loss: 0.1195 - val_accuracy: 0.8575 - val_loss: 0.3847\n",
            "Epoch 70/100\n",
            "\u001b[1m147/147\u001b[0m \u001b[32m━━━━━━━━━━━━━━━━━━━━\u001b[0m\u001b[37m\u001b[0m \u001b[1m1s\u001b[0m 4ms/step - accuracy: 0.9505 - loss: 0.1166 - val_accuracy: 0.8541 - val_loss: 0.4065\n",
            "Epoch 71/100\n",
            "\u001b[1m147/147\u001b[0m \u001b[32m━━━━━━━━━━━━━━━━━━━━\u001b[0m\u001b[37m\u001b[0m \u001b[1m1s\u001b[0m 4ms/step - accuracy: 0.9484 - loss: 0.1187 - val_accuracy: 0.8430 - val_loss: 0.4375\n",
            "Epoch 72/100\n",
            "\u001b[1m147/147\u001b[0m \u001b[32m━━━━━━━━━━━━━━━━━━━━\u001b[0m\u001b[37m\u001b[0m \u001b[1m1s\u001b[0m 3ms/step - accuracy: 0.9571 - loss: 0.1155 - val_accuracy: 0.8703 - val_loss: 0.3221\n",
            "Epoch 73/100\n",
            "\u001b[1m147/147\u001b[0m \u001b[32m━━━━━━━━━━━━━━━━━━━━\u001b[0m\u001b[37m\u001b[0m \u001b[1m1s\u001b[0m 4ms/step - accuracy: 0.9472 - loss: 0.1252 - val_accuracy: 0.8473 - val_loss: 0.3819\n",
            "Epoch 74/100\n",
            "\u001b[1m147/147\u001b[0m \u001b[32m━━━━━━━━━━━━━━━━━━━━\u001b[0m\u001b[37m\u001b[0m \u001b[1m1s\u001b[0m 6ms/step - accuracy: 0.9564 - loss: 0.1241 - val_accuracy: 0.8456 - val_loss: 0.3593\n",
            "Epoch 75/100\n",
            "\u001b[1m147/147\u001b[0m \u001b[32m━━━━━━━━━━━━━━━━━━━━\u001b[0m\u001b[37m\u001b[0m \u001b[1m1s\u001b[0m 7ms/step - accuracy: 0.9535 - loss: 0.1168 - val_accuracy: 0.8558 - val_loss: 0.3542\n",
            "Epoch 76/100\n",
            "\u001b[1m147/147\u001b[0m \u001b[32m━━━━━━━━━━━━━━━━━━━━\u001b[0m\u001b[37m\u001b[0m \u001b[1m1s\u001b[0m 7ms/step - accuracy: 0.9483 - loss: 0.1263 - val_accuracy: 0.8737 - val_loss: 0.3208\n",
            "Epoch 77/100\n",
            "\u001b[1m147/147\u001b[0m \u001b[32m━━━━━━━━━━━━━━━━━━━━\u001b[0m\u001b[37m\u001b[0m \u001b[1m4s\u001b[0m 23ms/step - accuracy: 0.9570 - loss: 0.1108 - val_accuracy: 0.8473 - val_loss: 0.3699\n",
            "Epoch 78/100\n",
            "\u001b[1m147/147\u001b[0m \u001b[32m━━━━━━━━━━━━━━━━━━━━\u001b[0m\u001b[37m\u001b[0m \u001b[1m2s\u001b[0m 11ms/step - accuracy: 0.9554 - loss: 0.1175 - val_accuracy: 0.8490 - val_loss: 0.3789\n",
            "Epoch 79/100\n",
            "\u001b[1m147/147\u001b[0m \u001b[32m━━━━━━━━━━━━━━━━━━━━\u001b[0m\u001b[37m\u001b[0m \u001b[1m2s\u001b[0m 12ms/step - accuracy: 0.9484 - loss: 0.1273 - val_accuracy: 0.8857 - val_loss: 0.3149\n",
            "Epoch 80/100\n",
            "\u001b[1m147/147\u001b[0m \u001b[32m━━━━━━━━━━━━━━━━━━━━\u001b[0m\u001b[37m\u001b[0m \u001b[1m3s\u001b[0m 12ms/step - accuracy: 0.9543 - loss: 0.1159 - val_accuracy: 0.8840 - val_loss: 0.3219\n",
            "Epoch 81/100\n",
            "\u001b[1m147/147\u001b[0m \u001b[32m━━━━━━━━━━━━━━━━━━━━\u001b[0m\u001b[37m\u001b[0m \u001b[1m1s\u001b[0m 8ms/step - accuracy: 0.9550 - loss: 0.1169 - val_accuracy: 0.8370 - val_loss: 0.4169\n",
            "Epoch 82/100\n",
            "\u001b[1m147/147\u001b[0m \u001b[32m━━━━━━━━━━━━━━━━━━━━\u001b[0m\u001b[37m\u001b[0m \u001b[1m2s\u001b[0m 6ms/step - accuracy: 0.9516 - loss: 0.1165 - val_accuracy: 0.8379 - val_loss: 0.3919\n",
            "Epoch 83/100\n",
            "\u001b[1m147/147\u001b[0m \u001b[32m━━━━━━━━━━━━━━━━━━━━\u001b[0m\u001b[37m\u001b[0m \u001b[1m1s\u001b[0m 8ms/step - accuracy: 0.9517 - loss: 0.1210 - val_accuracy: 0.8592 - val_loss: 0.3920\n",
            "Epoch 84/100\n",
            "\u001b[1m147/147\u001b[0m \u001b[32m━━━━━━━━━━━━━━━━━━━━\u001b[0m\u001b[37m\u001b[0m \u001b[1m3s\u001b[0m 10ms/step - accuracy: 0.9555 - loss: 0.1105 - val_accuracy: 0.8677 - val_loss: 0.3222\n",
            "Epoch 85/100\n",
            "\u001b[1m147/147\u001b[0m \u001b[32m━━━━━━━━━━━━━━━━━━━━\u001b[0m\u001b[37m\u001b[0m \u001b[1m2s\u001b[0m 4ms/step - accuracy: 0.9508 - loss: 0.1173 - val_accuracy: 0.8874 - val_loss: 0.3166\n",
            "Epoch 86/100\n",
            "\u001b[1m147/147\u001b[0m \u001b[32m━━━━━━━━━━━━━━━━━━━━\u001b[0m\u001b[37m\u001b[0m \u001b[1m1s\u001b[0m 5ms/step - accuracy: 0.9553 - loss: 0.1141 - val_accuracy: 0.8899 - val_loss: 0.2910\n",
            "Epoch 87/100\n",
            "\u001b[1m147/147\u001b[0m \u001b[32m━━━━━━━━━━━━━━━━━━━━\u001b[0m\u001b[37m\u001b[0m \u001b[1m1s\u001b[0m 6ms/step - accuracy: 0.9493 - loss: 0.1162 - val_accuracy: 0.8746 - val_loss: 0.3375\n",
            "Epoch 88/100\n",
            "\u001b[1m147/147\u001b[0m \u001b[32m━━━━━━━━━━━━━━━━━━━━\u001b[0m\u001b[37m\u001b[0m \u001b[1m1s\u001b[0m 4ms/step - accuracy: 0.9482 - loss: 0.1230 - val_accuracy: 0.8532 - val_loss: 0.4202\n",
            "Epoch 89/100\n",
            "\u001b[1m147/147\u001b[0m \u001b[32m━━━━━━━━━━━━━━━━━━━━\u001b[0m\u001b[37m\u001b[0m \u001b[1m1s\u001b[0m 3ms/step - accuracy: 0.9494 - loss: 0.1280 - val_accuracy: 0.8737 - val_loss: 0.3228\n",
            "Epoch 90/100\n",
            "\u001b[1m147/147\u001b[0m \u001b[32m━━━━━━━━━━━━━━━━━━━━\u001b[0m\u001b[37m\u001b[0m \u001b[1m1s\u001b[0m 3ms/step - accuracy: 0.9496 - loss: 0.1204 - val_accuracy: 0.8370 - val_loss: 0.3899\n",
            "Epoch 91/100\n",
            "\u001b[1m147/147\u001b[0m \u001b[32m━━━━━━━━━━━━━━━━━━━━\u001b[0m\u001b[37m\u001b[0m \u001b[1m1s\u001b[0m 3ms/step - accuracy: 0.9504 - loss: 0.1248 - val_accuracy: 0.8157 - val_loss: 0.5734\n",
            "Epoch 92/100\n",
            "\u001b[1m147/147\u001b[0m \u001b[32m━━━━━━━━━━━━━━━━━━━━\u001b[0m\u001b[37m\u001b[0m \u001b[1m1s\u001b[0m 3ms/step - accuracy: 0.9502 - loss: 0.1220 - val_accuracy: 0.8584 - val_loss: 0.3940\n",
            "Epoch 93/100\n",
            "\u001b[1m147/147\u001b[0m \u001b[32m━━━━━━━━━━━━━━━━━━━━\u001b[0m\u001b[37m\u001b[0m \u001b[1m1s\u001b[0m 4ms/step - accuracy: 0.9594 - loss: 0.1143 - val_accuracy: 0.8490 - val_loss: 0.4016\n",
            "Epoch 94/100\n",
            "\u001b[1m147/147\u001b[0m \u001b[32m━━━━━━━━━━━━━━━━━━━━\u001b[0m\u001b[37m\u001b[0m \u001b[1m1s\u001b[0m 3ms/step - accuracy: 0.9548 - loss: 0.1143 - val_accuracy: 0.8925 - val_loss: 0.2978\n",
            "Epoch 95/100\n",
            "\u001b[1m147/147\u001b[0m \u001b[32m━━━━━━━━━━━━━━━━━━━━\u001b[0m\u001b[37m\u001b[0m \u001b[1m1s\u001b[0m 3ms/step - accuracy: 0.9590 - loss: 0.1090 - val_accuracy: 0.8481 - val_loss: 0.4095\n",
            "Epoch 96/100\n",
            "\u001b[1m147/147\u001b[0m \u001b[32m━━━━━━━━━━━━━━━━━━━━\u001b[0m\u001b[37m\u001b[0m \u001b[1m1s\u001b[0m 4ms/step - accuracy: 0.9526 - loss: 0.1177 - val_accuracy: 0.8259 - val_loss: 0.4809\n",
            "Epoch 97/100\n",
            "\u001b[1m147/147\u001b[0m \u001b[32m━━━━━━━━━━━━━━━━━━━━\u001b[0m\u001b[37m\u001b[0m \u001b[1m1s\u001b[0m 5ms/step - accuracy: 0.9574 - loss: 0.1113 - val_accuracy: 0.8643 - val_loss: 0.3697\n",
            "Epoch 98/100\n",
            "\u001b[1m147/147\u001b[0m \u001b[32m━━━━━━━━━━━━━━━━━━━━\u001b[0m\u001b[37m\u001b[0m \u001b[1m1s\u001b[0m 7ms/step - accuracy: 0.9465 - loss: 0.1381 - val_accuracy: 0.8584 - val_loss: 0.3651\n",
            "Epoch 99/100\n",
            "\u001b[1m147/147\u001b[0m \u001b[32m━━━━━━━━━━━━━━━━━━━━\u001b[0m\u001b[37m\u001b[0m \u001b[1m2s\u001b[0m 10ms/step - accuracy: 0.9514 - loss: 0.1214 - val_accuracy: 0.8567 - val_loss: 0.3777\n",
            "Epoch 100/100\n",
            "\u001b[1m147/147\u001b[0m \u001b[32m━━━━━━━━━━━━━━━━━━━━\u001b[0m\u001b[37m\u001b[0m \u001b[1m2s\u001b[0m 7ms/step - accuracy: 0.9562 - loss: 0.1105 - val_accuracy: 0.8840 - val_loss: 0.3269\n"
          ]
        }
      ],
      "source": [
        "history = model.fit(x_train, y_train, epochs=100, batch_size=32, validation_split=0.2)"
      ]
    },
    {
      "cell_type": "code",
      "execution_count": null,
      "metadata": {
        "colab": {
          "base_uri": "https://localhost:8080/"
        },
        "id": "rfzEa-4-EbEn",
        "outputId": "222dadcb-8cca-4407-fd2b-b3f0b3df6adb"
      },
      "outputs": [
        {
          "output_type": "stream",
          "name": "stdout",
          "text": [
            "\u001b[1m30/30\u001b[0m \u001b[32m━━━━━━━━━━━━━━━━━━━━\u001b[0m\u001b[37m\u001b[0m \u001b[1m0s\u001b[0m 2ms/step - accuracy: 0.9394 - loss: 0.1788 \n",
            "Test Accuracy: 0.94\n"
          ]
        }
      ],
      "source": [
        "test_loss, test_accuracy = model.evaluate(x_test, y_test)\n",
        "print(f\"Test Accuracy: {test_accuracy:.2f}\")\n"
      ]
    },
    {
      "cell_type": "code",
      "execution_count": null,
      "metadata": {
        "colab": {
          "base_uri": "https://localhost:8080/"
        },
        "id": "Etrsrqi9EbEn",
        "outputId": "6d49e2c8-aae1-4b22-ff51-1adec8e20a01"
      },
      "outputs": [
        {
          "output_type": "stream",
          "name": "stdout",
          "text": [
            "\u001b[1m183/183\u001b[0m \u001b[32m━━━━━━━━━━━━━━━━━━━━\u001b[0m\u001b[37m\u001b[0m \u001b[1m0s\u001b[0m 2ms/step - accuracy: 0.9661 - loss: 0.0891\n",
            "Train Accuracy: 0.95\n"
          ]
        }
      ],
      "source": [
        "train_loss, train_accuracy = model.evaluate(x_train, y_train)\n",
        "print(f\"Train Accuracy: {train_accuracy:.2f}\")"
      ]
    }
  ],
  "metadata": {
    "colab": {
      "provenance": []
    },
    "kaggle": {
      "accelerator": "none",
      "dataSources": [
        {
          "datasetId": 5154485,
          "sourceId": 8612725,
          "sourceType": "datasetVersion"
        }
      ],
      "dockerImageVersionId": 30698,
      "isGpuEnabled": false,
      "isInternetEnabled": true,
      "language": "python",
      "sourceType": "notebook"
    },
    "kernelspec": {
      "display_name": "Python 3 (ipykernel)",
      "language": "python",
      "name": "python3"
    },
    "language_info": {
      "codemirror_mode": {
        "name": "ipython",
        "version": 3
      },
      "file_extension": ".py",
      "mimetype": "text/x-python",
      "name": "python",
      "nbconvert_exporter": "python",
      "pygments_lexer": "ipython3",
      "version": "3.12.3"
    }
  },
  "nbformat": 4,
  "nbformat_minor": 0
}